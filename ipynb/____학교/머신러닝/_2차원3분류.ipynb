{
 "cells": [
  {
   "cell_type": "code",
   "execution_count": 1,
   "metadata": {},
   "outputs": [],
   "source": [
    "import numpy as np\n",
    "import matplotlib.pyplot as plt\n",
    "\n",
    "# 데이터 생성 --------------------------------\n",
    "np.random.seed(seed=1)  # 난수를 고정\n",
    "N = 100                                   # 데이터의 수\n",
    "K = 3                                         # 분포 수\n",
    "\n",
    "T3 = np.zeros((N, 3), dtype=np.uint8)\n",
    "X  = np.zeros((N, 2))\n",
    "\n",
    "Mu = np.array([[-.5, -.5], [.5, 1.0], [1, -.5]])  #  분포의 중심\n",
    "Sig = np.array([[.7, .7], [.8, .3], [.3, .8]])        #  분포의 분산\n",
    "Pi  =  np.array([0.4, 0.8, 1])                             # (A) 각 분포에 대한 비율 0.4 0.8 1\n",
    "\n",
    "for i in range(N):\n",
    "    wk = np.random.rand()\n",
    "    for k in range(K): # (B)\n",
    "        if wk < Pi[k]:\n",
    "            T3[i, k] = 1\n",
    "            break\n",
    "    for k in range(2):\n",
    "        X[i, k] = (np.random.randn() * Sig[T3[i, :] == 1, k] + Mu[T3[i, :] == 1, k])"
   ]
  },
  {
   "cell_type": "code",
   "execution_count": 35,
   "metadata": {},
   "outputs": [
    {
     "name": "stdout",
     "output_type": "stream",
     "text": [
      "[[0.    0.006 0.994]\n",
      " [0.965 0.033 0.001]\n",
      " [0.925 0.07  0.005]\n",
      " [0.    0.    1.   ]\n",
      " [0.019 0.126 0.856]]\n"
     ]
    }
   ],
   "source": [
    "# 리스트 6-2-(12)\n",
    "# 3 클래스 용 로지스틱 회귀 모델 -----------------\n",
    "\n",
    "def  logistic3(x0, x1, w):\n",
    "    K = 3\n",
    "    w = w.reshape((3, 3))\n",
    "    n = len(x1)\n",
    "    y = np.zeros((n, K))\n",
    "    for k in range(K):\n",
    "        y[:, k] = np.exp(w[k, 0] * x0 + w[k, 1] * x1 + w[k, 2])\n",
    "#     print(y)\n",
    "    wk = np.sum(y, axis=1)\n",
    "#     print(wk)\n",
    "    wk = y.T / wk\n",
    "    y = wk.T\n",
    "    return y\n",
    "\n",
    "# test ---\n",
    "W = np.array([1, 2, 3, 4 ,5, 6, 7, 8, 9])\n",
    "y = logistic3(X[:5, 0], X[:5, 1], W)\n",
    "print(np.round(y, 3))"
   ]
  },
  {
   "cell_type": "code",
   "execution_count": 5,
   "metadata": {},
   "outputs": [],
   "source": [
    "def cee_logistic3(w, x, t):\n",
    "    X_n = x.shape[0]\n",
    "    y = logistic3(x[:, 0], x[:, 1], w)\n",
    "    cee = 0\n",
    "    N, K = y.shape\n",
    "    for n in range(N):\n",
    "        for k in range(K):\n",
    "            cee = cee - (t[n, k] * np.log(y[n, k]))\n",
    "    cee = cee / X_n\n",
    "    return cee\n",
    "\n",
    "# 교차 엔트로피 오차의 미분 \n",
    "\n",
    "def dcee_logistic3(w, x, t):\n",
    "    X_n = x.shape[0]\n",
    "    y = logistic3(x[:, 0], x[:, 1], w)\n",
    "    dcee = np.zeros((3, 3))\n",
    "              # (클래스의 수 K) x (x의 차원 D+1)\n",
    "\n",
    "    N, K = y.shape\n",
    "    for n in range(N):\n",
    "        for k in range(K):\n",
    "            dcee[k, :] = dcee[k, :] - (t[n, k] - y[n, k])* np.r_[x[n, :], 1]\n",
    "    dcee = dcee / X_n\n",
    "    return dcee.reshape(-1)"
   ]
  },
  {
   "cell_type": "code",
   "execution_count": 13,
   "metadata": {},
   "outputs": [],
   "source": [
    "# 매개 변수 검색\n",
    "\n",
    "def fit_logistic3(w_init, x, t):\n",
    "    res = minimize(cee_logistic3, w_init, args=(x, t),\n",
    "                   jac=dcee_logistic3, method='CG')\n",
    "    return res.x\n",
    "\n",
    "# 모델 등고선 2D 표시\n",
    "def show_contour_logistic3(w):\n",
    "    xn = 30 \n",
    "    x0 = np.linspace(X_range0[0], X_range0[1], xn)\n",
    "    x1 = np.linspace(X_range1[0], X_range1[1], xn)\n",
    "\n",
    "    xx0, xx1 = np.meshgrid(x0, x1)\n",
    "    y = np.zeros((xn, xn, 3))\n",
    "    for i in range(xn):\n",
    "        wk = logistic3(xx0[:, i], xx1[:, i], w)\n",
    "        for j in range(3):\n",
    "            y[:, i, j] = wk[:, j]\n",
    "    for j in range(3):\n",
    "        cont = plt.contour(xx0, xx1, y[:, :, j],\n",
    "                           levels=(0.5, 0.9),\n",
    "                           colors=['cornflowerblue', 'k'])\n",
    "        cont.clabel(fmt='%1.1f', fontsize=9)\n",
    "    plt.grid(True)\n",
    "    \n",
    "def show_data2(x, t):\n",
    "    wk, K = t.shape\n",
    "    c = [[.5, .5, .5], [1, 1, 1], [0, 0, 0]]\n",
    "    for k in range(K):\n",
    "        plt.plot(x[t[:, k] == 1, 0], x[t[:, k] == 1, 1],  linestyle='none', markeredgecolor='black', marker='o', color=c[k], alpha=0.8)\n",
    "        plt.grid(True)"
   ]
  },
  {
   "cell_type": "code",
   "execution_count": 36,
   "metadata": {},
   "outputs": [
    {
     "name": "stdout",
     "output_type": "stream",
     "text": [
      "\t dcee_out = \n",
      " [ 0.03778433  0.03708109 -0.1841851  -0.21235188 -0.44408101 -0.38340835\n",
      "  0.17456754  0.40699992  0.56759346]\n",
      "\t W = \n",
      " [[-3.2  -2.69  2.25]\n",
      " [-0.49  4.8  -0.69]\n",
      " [ 3.68 -2.11 -1.56]]\n",
      "CEE = 0.23\n"
     ]
    },
    {
     "data": {
      "image/png": "[encoded data removed]",
      "text/plain": [
       "<Figure size 360x360 with 1 Axes>"
      ]
     },
     "metadata": {
      "needs_background": "light"
     },
     "output_type": "display_data"
    }
   ],
   "source": [
    "from scipy.optimize import minimize\n",
    "\n",
    "\n",
    "X_range0 = [-3, 3] # X0 범위 표시 용\n",
    "X_range1 = [-3, 3] # X1의 범위 표시 용\n",
    "\n",
    "# 테스트\n",
    "W = np.array([1, 2, 3, 4 ,5, 6, 7, 8, 9])\n",
    "dcee_out = dcee_logistic3(W, X, T3)\n",
    "print('\\t dcee_out = \\n' ,dcee_out)\n",
    "\n",
    "# 메인\n",
    "W_init = np.zeros((3, 3))\n",
    "W = fit_logistic3(W_init, X, T3)\n",
    "print('\\t W = \\n',np.round(W.reshape((3, 3)),2))\n",
    "cee = cee_logistic3(W, X, T3)\n",
    "print(\"CEE = {0:.2f}\".format(cee))\n",
    "\n",
    "plt.figure(figsize=(5, 5))\n",
    "\n",
    "show_contour_logistic3(W)\n",
    "show_data2(X, T3)\n",
    "\n",
    "plt.show()"
   ]
  },
  {
   "cell_type": "code",
   "execution_count": 42,
   "metadata": {},
   "outputs": [
    {
     "name": "stdout",
     "output_type": "stream",
     "text": [
      "\t dcee_out = \n",
      " [ 0.03778433  0.03708109 -0.1841851  -0.21235188 -0.44408101 -0.38340835\n",
      "  0.17456754  0.40699992  0.56759346]\n",
      "\t W = \n",
      " [[-2.68 -2.23  1.66]\n",
      " [-0.17  3.9  -0.53]\n",
      " [ 2.86 -1.67 -1.13]]\n",
      "CEE = 0.23\n"
     ]
    },
    {
     "data": {
      "image/png": "[encoded data removed]",
      "text/plain": [
       "<Figure size 360x360 with 1 Axes>"
      ]
     },
     "metadata": {
      "needs_background": "light"
     },
     "output_type": "display_data"
    }
   ],
   "source": [
    "# from scipy.optimize import minimize\n",
    "\n",
    "\n",
    "X_range0 = [-3, 3] # X0 범위 표시 용\n",
    "X_range1 = [-3, 3] # X1의 범위 표시 용\n",
    "\n",
    "# 테스트\n",
    "W = np.array([1, 2, 3, 4 ,5, 6, 7, 8, 9])\n",
    "dcee_out = dcee_logistic3(W, X, T3)\n",
    "print('\\t dcee_out = \\n' ,dcee_out)\n",
    "\n",
    "# 메인\n",
    "W = np.zeros((9,))\n",
    "for i in range(200):\n",
    "    W -= dcee_logistic3(W, X, T3)\n",
    "#     print(cee_logistic3(W,X,T3))\n",
    "    \n",
    "print('\\t W = \\n',np.round(W.reshape((3, 3)),2))\n",
    "cee = cee_logistic3(W, X, T3)\n",
    "print(\"CEE = {0:.2f}\".format(cee))\n",
    "\n",
    "plt.figure(figsize=(5, 5))\n",
    "\n",
    "show_contour_logistic3(W)\n",
    "show_data2(X, T3)\n",
    "\n",
    "plt.show()"
   ]
  },
  {
   "cell_type": "code",
   "execution_count": null,
   "metadata": {},
   "outputs": [],
   "source": []
  },
  {
   "cell_type": "code",
   "execution_count": null,
   "metadata": {},
   "outputs": [],
   "source": []
  },
  {
   "cell_type": "code",
   "execution_count": 29,
   "metadata": {},
   "outputs": [],
   "source": [
    "w = np.arange(9)\n",
    "x = np.array(range(10)).reshape(2,5).T\n",
    "t = np.array([1,0,0,0,1,0,1,0,0,0,1,0,0,0,1]).reshape(3,5).T"
   ]
  },
  {
   "cell_type": "code",
   "execution_count": 43,
   "metadata": {},
   "outputs": [
    {
     "data": {
      "text/plain": [
       "28.800000006099545"
      ]
     },
     "execution_count": 43,
     "metadata": {},
     "output_type": "execute_result"
    }
   ],
   "source": [
    "cee_logistic3(w,x,t)"
   ]
  },
  {
   "cell_type": "code",
   "execution_count": 31,
   "metadata": {},
   "outputs": [
    {
     "name": "stdout",
     "output_type": "stream",
     "text": [
      "[[1.09663316e+03 7.20048993e+10 4.72783947e+18]\n",
      " [2.98095799e+03 7.89629602e+13 2.09165950e+24]\n",
      " [8.10308393e+03 8.65934004e+16 9.25378173e+29]\n",
      " [2.20264658e+04 9.49611942e+19 4.09399696e+35]\n",
      " [5.98741417e+04 1.04137594e+23 1.81123908e+41]]\n",
      "[4.72783954e+18 2.09165950e+24 9.25378173e+29 4.09399696e+35\n",
      " 1.81123908e+41]\n"
     ]
    },
    {
     "data": {
      "text/plain": [
       "array([-0.8       , -2.8       , -0.4       , -0.2       , -1.19999998,\n",
       "       -0.2       ,  1.2       ,  4.19999998,  0.6       ])"
      ]
     },
     "execution_count": 31,
     "metadata": {},
     "output_type": "execute_result"
    }
   ],
   "source": [
    "dcee_logistic3(w, x, t)"
   ]
  },
  {
   "cell_type": "code",
   "execution_count": null,
   "metadata": {},
   "outputs": [],
   "source": []
  }
 ],
 "metadata": {
  "kernelspec": {
   "display_name": "Python 3",
   "language": "python",
   "name": "python3"
  },
  "language_info": {
   "codemirror_mode": {
    "name": "ipython",
    "version": 3
   },
   "file_extension": ".py",
   "mimetype": "text/x-python",
   "name": "python",
   "nbconvert_exporter": "python",
   "pygments_lexer": "ipython3",
   "version": "3.7.3"
  }
 },
 "nbformat": 4,
 "nbformat_minor": 4
}
