{
 "cells": [
  {
   "cell_type": "code",
   "execution_count": 2,
   "metadata": {},
   "outputs": [
    {
     "name": "stdout",
     "output_type": "stream",
     "text": [
      "X=[1.94 1.67 0.92 1.11 1.41 1.65 2.28 0.47 1.07 2.19 2.08 1.02 0.91 1.16\n",
      " 1.46 1.02 0.85 0.89 1.79 1.89 0.75 0.9  1.87 0.5  0.69 1.5  0.96 0.53\n",
      " 1.21 0.6 ]\n",
      "T=[1 1 0 0 1 1 1 0 0 1 1 0 0 0 1 0 0 0 1 1 0 1 1 0 0 1 1 0 1 0]\n"
     ]
    }
   ],
   "source": [
    "# 리스트 6-1-(1)\n",
    "import numpy as np\n",
    "import matplotlib.pyplot as plt\n",
    "\n",
    "# 데이터 생성 --------------------------------\n",
    "np.random.seed(seed=0) # 난수를 고정\n",
    "X_min = 0\n",
    "X_max = 2.5\n",
    "X_n = 30\n",
    "X_col = ['cornflowerblue', 'red']\n",
    "X = np.zeros(X_n)                                 # 입력 데이터\n",
    "T = np.zeros(X_n, dtype=np.uint8) # 목표 데이터\n",
    "Dist_s = [0.4, 0.8]    # 분포의 시작 지점\n",
    "Dist_w = [0.8, 1.6]  # 분포의 폭\n",
    "Pi = 0.5                      # 클래스 0의 비율\n",
    "for i in range(X_n):\n",
    "    wk = np.random.rand()\n",
    "    T[i] = 0 * (wk < Pi) + 1 * (wk >= Pi) # (A)\n",
    "    X[i] = np.random.rand() * Dist_w[T[i]] + Dist_s[T[i]] # (B)\n",
    "# 데이터 표시 --------------------------------\n",
    "print('X=' + str(np.round(X, 2)))\n",
    "print('T=' + str(T))"
   ]
  },
  {
   "cell_type": "code",
   "execution_count": 3,
   "metadata": {},
   "outputs": [
    {
     "data": {
      "image/png": "[encoded data removed]",
      "text/plain": [
       "<Figure size 216x216 with 1 Axes>"
      ]
     },
     "metadata": {
      "needs_background": "light"
     },
     "output_type": "display_data"
    }
   ],
   "source": [
    "# 리스트 6-1-(2)\n",
    "# 데이터 분포 표시 ----------------------------\n",
    "def show_data1(x, t):\n",
    "    K = np.max(t) + 1\n",
    "    for k in range(K): # (A)\n",
    "        plt.plot(x[t == k], t[t == k], X_col[k], alpha=0.5,\n",
    "                 linestyle='none', marker='o') # (B)\n",
    "        plt.grid(True)\n",
    "        plt.ylim(-.5, 1.5)\n",
    "        plt.xlim(X_min, X_max)\n",
    "        plt.yticks([0, 1])\n",
    "\n",
    "\n",
    "\n",
    "\n",
    "# 메인 ------------------------------------\n",
    "fig = plt.figure(figsize=(3, 3))\n",
    "show_data1(X, T)\n",
    "plt.show()"
   ]
  },
  {
   "cell_type": "code",
   "execution_count": 9,
   "metadata": {},
   "outputs": [],
   "source": [
    "import numpy as np\n",
    "import matplotlib.pyplot as plt\n",
    "# 리스트 6-1-(3)\n",
    "def logistic(x, w):\n",
    "    y = 1 / (1 + np.exp(-(w[0] * x + w[1])))\n",
    "    return y\n",
    "# 리스트 6-1-(4)\n",
    "def show_logistic(w):\n",
    "    xb = np.linspace(X_min, X_max, 100)\n",
    "    y = logistic(xb, w)\n",
    "    plt.plot(xb, y, color='gray', linewidth=4)\n",
    "# 결정 경계\n",
    "    i = np.min(np.where(y > 0.5))     # (A)\n",
    "    B = (xb[i - 1] + xb[i]) / 2                # (B)\n",
    "    plt.plot([B, B], [-.5, 1.5], color='k', linestyle='--')\n",
    "    plt.grid(True)\n",
    "    return B"
   ]
  },
  {
   "cell_type": "code",
   "execution_count": 7,
   "metadata": {},
   "outputs": [],
   "source": [
    "# 평균 교차 엔트로피 오차 ---------------------\n",
    "def cee_logistic(w, x, t):\n",
    "    y = logistic(x, w)\n",
    "    cee = 0\n",
    "    for n in range(len(y)):\n",
    "        cee = cee - (t[n] * np.log(y[n]) + (1 - t[n]) * np.log(1 - y[n]))\n",
    "    cee = cee / X_n\n",
    "    return cee\n",
    "\n",
    "# 평균 교차 엔트로피 오차의 미분 --------------\n",
    "def dcee_logistic(w, x, t):\n",
    "    y = logistic(x, w)\n",
    "    dcee = np.zeros(2)\n",
    "    for n in range(len(y)):\n",
    "        dcee[0] = dcee[0] + (y[n] - t[n]) * x[n]\n",
    "        dcee[1] = dcee[1] + (y[n] - t[n])\n",
    "    dcee = dcee / X_n\n",
    "    return dcee"
   ]
  },
  {
   "cell_type": "code",
   "execution_count": 26,
   "metadata": {},
   "outputs": [
    {
     "name": "stdout",
     "output_type": "stream",
     "text": [
      "w0 = 8.18, w1 = -9.38\n",
      "CEE = 0.25\n",
      "Boundary = 1.15 g\n"
     ]
    },
    {
     "data": {
      "image/png": "[encoded data removed]",
      "text/plain": [
       "<Figure size 216x216 with 1 Axes>"
      ]
     },
     "metadata": {
      "needs_background": "light"
     },
     "output_type": "display_data"
    }
   ],
   "source": [
    "import numpy as np\n",
    "import matplotlib.pyplot as plt\n",
    "\n",
    "# 리스트 6-1-(8)\n",
    "from scipy.optimize import minimize\n",
    "\n",
    "# 매개 변수 검색\n",
    "def fit_logistic(w_init, x, t):\n",
    "    res1 = minimize(cee_logistic, w_init, args=(x, t),\n",
    "                    jac=dcee_logistic, method=\"CG\") # (A)\n",
    "#     print(res1)\n",
    "    return res1.x\n",
    "# 메인 ------------------------------------\n",
    "plt.figure(1, figsize=(3, 3))\n",
    "W_init=[1,-1]\n",
    "W = fit_logistic(W_init, X, T)\n",
    "print(\"w0 = {0:.2f}, w1 = {1:.2f}\".format(W[0], W[1]))\n",
    "B=show_logistic(W)\n",
    "show_data1(X, T)\n",
    "plt.ylim(-.5, 1.5)\n",
    "plt.xlim(X_min, X_max)\n",
    "cee = cee_logistic(W, X, T)\n",
    "print(\"CEE = {0:.2f}\".format(cee))\n",
    "print(\"Boundary = {0:.2f} g\".format(B))\n",
    "plt.show()"
   ]
  },
  {
   "cell_type": "code",
   "execution_count": null,
   "metadata": {},
   "outputs": [],
   "source": []
  },
  {
   "cell_type": "code",
   "execution_count": null,
   "metadata": {},
   "outputs": [],
   "source": []
  },
  {
   "cell_type": "code",
   "execution_count": null,
   "metadata": {},
   "outputs": [],
   "source": []
  },
  {
   "cell_type": "code",
   "execution_count": null,
   "metadata": {},
   "outputs": [],
   "source": []
  }
 ],
 "metadata": {
  "kernelspec": {
   "display_name": "Python 3",
   "language": "python",
   "name": "python3"
  },
  "language_info": {
   "codemirror_mode": {
    "name": "ipython",
    "version": 3
   },
   "file_extension": ".py",
   "mimetype": "text/x-python",
   "name": "python",
   "nbconvert_exporter": "python",
   "pygments_lexer": "ipython3",
   "version": "3.7.3"
  }
 },
 "nbformat": 4,
 "nbformat_minor": 4
}
