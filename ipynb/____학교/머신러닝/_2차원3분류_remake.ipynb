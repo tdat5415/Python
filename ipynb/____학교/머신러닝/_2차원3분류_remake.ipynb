{
 "cells": [
  {
   "cell_type": "markdown",
   "metadata": {},
   "source": [
    "### 데이터 생성"
   ]
  },
  {
   "cell_type": "code",
   "execution_count": 241,
   "metadata": {},
   "outputs": [],
   "source": [
    "import numpy as np\n",
    "import matplotlib.pyplot as plt\n",
    "\n",
    "# 데이터 생성 --------------------------------\n",
    "np.random.seed(seed=1)  # 난수를 고정\n",
    "N = 100                                   # 데이터의 수\n",
    "K = 3                                         # 분포 수\n",
    "\n",
    "T3 = np.zeros((3, N), dtype=np.uint8)\n",
    "X  = np.zeros((2, N))\n",
    "\n",
    "Mu = np.array([[-.5, -.5], [.5, 1.0], [1, -.5]])  #  분포의 중심\n",
    "Sig = np.array([[.7, .7], [.8, .3], [.3, .8]])        #  분포의 분산\n",
    "Pi  =  np.array([0.4, 0.8, 1])                             # (A) 각 분포에 대한 비율 0.4 0.8 1\n",
    "\n",
    "for i in range(N):\n",
    "    wk = np.random.rand()\n",
    "    for k in range(K): # (B)\n",
    "        if wk < Pi[k]:\n",
    "            T3[k, i] = 1\n",
    "            break\n",
    "    for k in range(2):\n",
    "        X[k, i] = (np.random.randn() * Sig[T3[:, i] == 1, k] + Mu[T3[:, i] == 1, k])"
   ]
  },
  {
   "cell_type": "markdown",
   "metadata": {},
   "source": [
    "### 연산 함수 정의"
   ]
  },
  {
   "cell_type": "code",
   "execution_count": 242,
   "metadata": {},
   "outputs": [],
   "source": [
    "def  logistic3(x, w):\n",
    "    w = w.reshape((3, 3))\n",
    "    x = np.array([x[0], x[1], np.ones_like(x[0])]) # shape(3,5)\n",
    "    y = np.exp(w.dot(x)) # shape(3,3) X shape(3,5) = shape(3,5)\n",
    "    wk = np.sum(y, axis=0) # shape(5)\n",
    "    \n",
    "    return y / wk # # shape(3,5)/shape(5) = shape(3,5)\n",
    "\n",
    "def cee_logistic3(w, x, t): # shape(3,3), shape(2,-1), shape(3,-1)\n",
    "    x_n = x.shape[1] # 데이터 갯수\n",
    "    y = logistic3(x, w) # shape(3, -1)\n",
    "    tot_cee = np.sum(- (t * np.log(y)))\n",
    "    \n",
    "    return tot_cee / x.shape[1] # 오차 평균\n",
    "\n",
    "# 교차 엔트로피 오차의 미분 \n",
    "def dcee_logistic3(w, x, t): # shape(3,3), shape(2,-1), shape(3,-1)\n",
    "    X_n = x.shape[1]\n",
    "    y = logistic3(x, w) # shape(3,-1)\n",
    "    x = np.array([x[0], x[1], np.ones_like(x[0])]) # shape(3,-1)\n",
    "    dcee = np.zeros((3, 3)) # (클래스의 수 K) x (x의 차원 D+1)\n",
    "\n",
    "    K, N = y.shape\n",
    "    for n in range(N):\n",
    "        aa = (y[:,n] - t[:,n]).reshape(3,1)\n",
    "        bb = x[:,n].reshape(1,3)\n",
    "        dcee += aa.dot(bb)\n",
    "    \n",
    "    dcee = dcee / X_n # shape(3,3)\n",
    "    return dcee.flatten()"
   ]
  },
  {
   "cell_type": "markdown",
   "metadata": {},
   "source": [
    "### 출력 함수 정의"
   ]
  },
  {
   "cell_type": "code",
   "execution_count": 243,
   "metadata": {},
   "outputs": [],
   "source": [
    "# 모델 등고선 2D 표시\n",
    "def show_contour_logistic3(w):\n",
    "    xn = 30 \n",
    "    x0 = np.linspace(X_range0[0], X_range0[1], xn)\n",
    "    x1 = np.linspace(X_range1[0], X_range1[1], xn)\n",
    "\n",
    "    xx0, xx1 = np.meshgrid(x0, x1)\n",
    "    xx = np.r_[[xx0],[xx1]]\n",
    "    y = np.zeros((3, xn, xn))\n",
    "    for i in range(xn):\n",
    "        wk = logistic3(xx[:,:,i], w)\n",
    "        for j in range(3):\n",
    "            y[j, :, i] = wk[j, :]\n",
    "    for j in range(3):\n",
    "        cont = plt.contour(xx0, xx1, y[j, :, :],\n",
    "                           levels=(0.5, 0.9),\n",
    "                           colors=['cornflowerblue', 'k'])\n",
    "        cont.clabel(fmt='%1.1f', fontsize=9)\n",
    "    plt.grid(True)\n",
    "    \n",
    "def show_data2(x, t):\n",
    "    K, wk = t.shape\n",
    "    c = [[.5, .5, .5], [1, 1, 1], [0, 0, 0]]\n",
    "    for k in range(K):\n",
    "        plt.plot(x[0, t[k, :] == 1], x[1, t[k, :] == 1],  linestyle='none', markeredgecolor='black', marker='o', color=c[k], alpha=0.8)\n",
    "        plt.grid(True)"
   ]
  },
  {
   "cell_type": "code",
   "execution_count": 258,
   "metadata": {},
   "outputs": [
    {
     "name": "stdout",
     "output_type": "stream",
     "text": [
      "epoch : 25\t 0.30526650173410474\n",
      "epoch : 50\t 0.2654266726091204\n",
      "epoch : 75\t 0.2509178156635698\n",
      "epoch : 100\t 0.24351692374876938\n",
      "epoch : 125\t 0.23910673125300497\n",
      "epoch : 150\t 0.23623174377295095\n",
      "epoch : 175\t 0.2342451099037926\n",
      "epoch : 200\t 0.23281532368336527\n",
      "W = \n",
      " [[-2.68 -2.23  1.66]\n",
      " [-0.17  3.9  -0.53]\n",
      " [ 2.86 -1.67 -1.13]]\n",
      "CEE = 0.23\n"
     ]
    },
    {
     "data": {
      "image/png": "[encoded data removed]",
      "text/plain": [
       "<Figure size 360x360 with 1 Axes>"
      ]
     },
     "metadata": {
      "needs_background": "light"
     },
     "output_type": "display_data"
    }
   ],
   "source": [
    "# from scipy.optimize import minimize\n",
    "\n",
    "X_range0 = [-3, 3] # X0 범위 표시 용\n",
    "X_range1 = [-3, 3] # X1의 범위 표시 용\n",
    "\n",
    "# 메인\n",
    "W = np.zeros((9,))\n",
    "for i in range(1,201):\n",
    "    W -= dcee_logistic3(W, X, T3)\n",
    "    if i%25 == 0:\n",
    "        print('epoch : %d\\t'%i, cee_logistic3(W,X,T3))\n",
    "    \n",
    "print('W = \\n',np.round(W.reshape((3, 3)),2))\n",
    "cee = cee_logistic3(W, X, T3)\n",
    "print(\"CEE = {0:.2f}\".format(cee))\n",
    "\n",
    "plt.figure(figsize=(5, 5))\n",
    "\n",
    "show_contour_logistic3(W)\n",
    "show_data2(X, T3)\n",
    "\n",
    "plt.show()"
   ]
  },
  {
   "cell_type": "code",
   "execution_count": null,
   "metadata": {},
   "outputs": [],
   "source": []
  }
 ],
 "metadata": {
  "kernelspec": {
   "display_name": "Python 3",
   "language": "python",
   "name": "python3"
  },
  "language_info": {
   "codemirror_mode": {
    "name": "ipython",
    "version": 3
   },
   "file_extension": ".py",
   "mimetype": "text/x-python",
   "name": "python",
   "nbconvert_exporter": "python",
   "pygments_lexer": "ipython3",
   "version": "3.7.3"
  }
 },
 "nbformat": 4,
 "nbformat_minor": 4
}
