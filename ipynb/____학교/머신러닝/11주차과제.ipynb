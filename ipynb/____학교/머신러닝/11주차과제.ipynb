{
 "cells": [
  {
   "cell_type": "code",
   "execution_count": 3,
   "metadata": {},
   "outputs": [
    {
     "name": "stdout",
     "output_type": "stream",
     "text": [
      "[[0.    0.006 0.994]\n",
      " [0.965 0.033 0.001]\n",
      " [0.925 0.07  0.005]\n",
      " [0.    0.    1.   ]\n",
      " [0.019 0.126 0.856]]\n"
     ]
    }
   ],
   "source": [
    "import numpy as np\n",
    "\n",
    "# 데이터 생성 --------------------------------\n",
    "np.random.seed(seed=1)  # 난수를 고정\n",
    "N = 100                                   # 데이터의 수\n",
    "K = 3                                         # 분포 수\n",
    "\n",
    "T3 = np.zeros((N, 3), dtype=np.uint8)\n",
    "X  = np.zeros((N, 2))\n",
    "\n",
    "Mu = np.array([[-.5, -.5], [.5, 1.0], [1, -.5]])  #  분포의 중심\n",
    "Sig = np.array([[.7, .7], [.8, .3], [.3, .8]])        #  분포의 분산\n",
    "Pi  =  np.array([0.4, 0.8, 1])                             # (A) 각 분포에 대한 비율 0.4 0.8 1\n",
    "\n",
    "for i in range(N):\n",
    "    wk = np.random.rand()\n",
    "    for k in range(K): # (B)\n",
    "        if wk < Pi[k]:\n",
    "            T3[i, k] = 1\n",
    "            break\n",
    "    for k in range(2):\n",
    "        X[i, k] = (np.random.randn() * Sig[T3[i, :] == 1, k] + Mu[T3[i, :] == 1, k])\n"
   ]
  },
  {
   "cell_type": "code",
   "execution_count": 14,
   "metadata": {},
   "outputs": [
    {
     "name": "stdout",
     "output_type": "stream",
     "text": [
      "[[0.    0.006 0.994]\n",
      " [0.965 0.033 0.001]\n",
      " [0.925 0.07  0.005]\n",
      " [0.    0.    1.   ]\n",
      " [0.019 0.126 0.856]]\n"
     ]
    }
   ],
   "source": [
    "def  logistic3(x0, x1, w):\n",
    "    # K = 3 # 이 줄 없어도 됨\n",
    "    # n = len(x1) # 이 줄 없어도 됨\n",
    "    # y = np.zeros((K, n)) # shape(3,5) # 이 줄 없어도 됨\n",
    "    w = w.reshape((3, 3))\n",
    "    x = np.array([x0, x1, np.ones_like(x0)]) # shape(3,5)\n",
    "    y = np.exp(w.dot(x)) # shape(3,3) X shape(3,5) = shape(3,5)\n",
    "    wk = np.sum(y, axis=0) # shape(5)\n",
    "    \n",
    "    return (y / wk).T # shape(3,5)/shape(5) = shape(3,5)  >>>  shape(5,3)\n",
    "\n",
    "\n",
    "# test ---\n",
    "W = np.array([1, 2, 3, 4 ,5, 6, 7, 8, 9])\n",
    "y = logistic3(X[:5, 0], X[:5, 1], W)\n",
    "print(np.round(y, 3))"
   ]
  },
  {
   "cell_type": "code",
   "execution_count": null,
   "metadata": {},
   "outputs": [],
   "source": []
  }
 ],
 "metadata": {
  "kernelspec": {
   "display_name": "Python 3",
   "language": "python",
   "name": "python3"
  },
  "language_info": {
   "codemirror_mode": {
    "name": "ipython",
    "version": 3
   },
   "file_extension": ".py",
   "mimetype": "text/x-python",
   "name": "python",
   "nbconvert_exporter": "python",
   "pygments_lexer": "ipython3",
   "version": "3.7.3"
  }
 },
 "nbformat": 4,
 "nbformat_minor": 4
}
