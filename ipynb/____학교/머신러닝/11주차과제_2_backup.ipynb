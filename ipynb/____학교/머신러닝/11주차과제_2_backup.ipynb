{
 "cells": [
  {
   "cell_type": "code",
   "execution_count": 192,
   "metadata": {},
   "outputs": [],
   "source": [
    "import numpy as np\n",
    "import matplotlib.pyplot as plt\n",
    "\n",
    "# 데이터 생성 --------------------------------\n",
    "np.random.seed(seed=1)  # 난수를 고정\n",
    "N = 100                                   # 데이터의 수\n",
    "K = 3                                         # 분포 수\n",
    "\n",
    "T3 = np.zeros((3, N), dtype=np.uint8)\n",
    "X  = np.zeros((2, N))\n",
    "\n",
    "Mu = np.array([[-.5, -.5], [.5, 1.0], [1, -.5]])  #  분포의 중심\n",
    "Sig = np.array([[.7, .7], [.8, .3], [.3, .8]])        #  분포의 분산\n",
    "Pi  =  np.array([0.4, 0.8, 1])                             # (A) 각 분포에 대한 비율 0.4 0.8 1\n",
    "\n",
    "for i in range(N):\n",
    "    wk = np.random.rand()\n",
    "    for k in range(K): # (B)\n",
    "        if wk < Pi[k]:\n",
    "            T3[k, i] = 1\n",
    "            break\n",
    "    for k in range(2):\n",
    "        X[k, i] = (np.random.randn() * Sig[T3[:, i] == 1, k] + Mu[T3[:, i] == 1, k])"
   ]
  },
  {
   "cell_type": "code",
   "execution_count": 3,
   "metadata": {},
   "outputs": [
    {
     "name": "stdout",
     "output_type": "stream",
     "text": [
      "[[0.    0.965 0.925 0.    0.019]\n",
      " [0.006 0.033 0.07  0.    0.126]\n",
      " [0.994 0.001 0.005 1.    0.856]]\n"
     ]
    }
   ],
   "source": [
    "def  logistic3(x, w):\n",
    "    w = w.reshape((3, 3))\n",
    "    x = np.array([x[0], x[1], np.ones_like(x[0])]) # shape(3,5)\n",
    "    y = np.exp(w.dot(x)) # shape(3,3) X shape(3,5) = shape(3,5)\n",
    "    wk = np.sum(y, axis=0) # shape(5)\n",
    "    \n",
    "    return y / wk # # shape(3,5)/shape(5) = shape(3,5)\n",
    "\n",
    "\n",
    "# test ---\n",
    "W = np.array([1, 2, 3, 4 ,5, 6, 7, 8, 9])\n",
    "y = logistic3(X[:,:5], W)\n",
    "print(np.round(y, 3))"
   ]
  },
  {
   "cell_type": "code",
   "execution_count": 126,
   "metadata": {},
   "outputs": [
    {
     "data": {
      "text/plain": [
       "array([[0.        , 0.69314718],\n",
       "       [1.09861229, 1.38629436]])"
      ]
     },
     "execution_count": 126,
     "metadata": {},
     "output_type": "execute_result"
    }
   ],
   "source": [
    "a = np.array(range(1,5)).reshape(2,2)\n",
    "np.log(a)"
   ]
  },
  {
   "cell_type": "code",
   "execution_count": 196,
   "metadata": {},
   "outputs": [],
   "source": [
    "def cee_logistic3(w, x, t): # shape(3,3), shape(2,-1), shape(3,-1)\n",
    "    K, N = t.shape\n",
    "    x_n = x.shape[1] # 데이터 갯수\n",
    "    y = logistic3(x, w) # shape(3, -1)\n",
    "    \n",
    "#     print((-t * np.log(y))[0,1])\n",
    "#     print(-t[0,1] * np.log(y[0,1]))\n",
    "#     print(-t[0,1])\n",
    "#     print(t[0,1])\n",
    "    \n",
    "#     cccc = []\n",
    "#     tot_cee = 0\n",
    "#     for k in range(K):\n",
    "#         ccc = []\n",
    "#         for n in range(N):\n",
    "#             tot_cee -= t[k, n] * np.log(y[k, n])\n",
    "#             ccc.append( - (t[k, n] * np.log(y[k, n])))\n",
    "#         cccc.append(ccc)\n",
    "#     print(np.array(cccc))\n",
    "    \n",
    "#     aa = - (t * np.log(y))\n",
    "    tot_cee = np.sum(- (t * np.log(y)))\n",
    "#     print(aa)\n",
    "    return tot_cee / x.shape[1] # 오차 평균\n",
    "\n",
    "# 교차 엔트로피 오차의 미분 \n",
    "\n",
    "def dcee_logistic3(w, x, t): # shape(3,3), shape(2,-1), shape(3,-1)\n",
    "    X_n = x.shape[1]\n",
    "    y = logistic3(x, w) # shape(3,-1)\n",
    "    x = np.array([x[0], x[1], np.ones_like(x[0])]) # shape(3,-1)\n",
    "    dcee = np.zeros((3, 3)) # (클래스의 수 K) x (x의 차원 D+1)\n",
    "\n",
    "    K, N = y.shape\n",
    "    for n in range(N):\n",
    "        aa = np.matrix(t[:,n]-y[:,n]).T\n",
    "        bb = np.matrix(x[:,n])\n",
    "        dcee -= aa.dot(bb)\n",
    "    \n",
    "    dcee = (dcee / X_n)\n",
    "    return dcee.flatten()"
   ]
  },
  {
   "cell_type": "code",
   "execution_count": 161,
   "metadata": {},
   "outputs": [],
   "source": [
    "w = np.arange(9)\n",
    "x = np.array(range(50)).reshape(2,25)\n",
    "t = np.array([1,0,0,0,1,0,1,0,0,0,1,0,0,0,1]*5).reshape(3,25)"
   ]
  },
  {
   "cell_type": "code",
   "execution_count": 174,
   "metadata": {},
   "outputs": [
    {
     "name": "stdout",
     "output_type": "stream",
     "text": [
      "[[-0.14173827 -0.86972023 -2.15442802  0.75523128 -1.10193462]\n",
      " [ 0.86533666 -1.25107804  0.29474174  0.92518889  0.74082534]]\n",
      "[[0 1 1 0 1]\n",
      " [1 0 0 1 0]\n",
      " [0 0 0 0 0]]\n"
     ]
    }
   ],
   "source": [
    "print(X[:,:5])\n",
    "print(T3[:,:5])"
   ]
  },
  {
   "cell_type": "code",
   "execution_count": 197,
   "metadata": {},
   "outputs": [
    {
     "data": {
      "text/plain": [
       "0.13036885654166125"
      ]
     },
     "execution_count": 197,
     "metadata": {},
     "output_type": "execute_result"
    }
   ],
   "source": [
    "cee_logistic3(W,X[:,:5],T3[:,:5])"
   ]
  },
  {
   "cell_type": "code",
   "execution_count": 138,
   "metadata": {},
   "outputs": [
    {
     "name": "stdout",
     "output_type": "stream",
     "text": [
      "[36.00000001522998, 0.0, 0.0, 0.0, 84.0, 0.0, 24.00000000003775, 0.0, 0.0, 0.0, 1.522997994880762e-08, 0.0, 0.0, 0.0, -0.0]\n"
     ]
    },
    {
     "data": {
      "text/plain": [
       "28.800000006099538"
      ]
     },
     "execution_count": 138,
     "metadata": {},
     "output_type": "execute_result"
    }
   ],
   "source": [
    "cee_logistic3(w,x,t)"
   ]
  },
  {
   "cell_type": "code",
   "execution_count": 100,
   "metadata": {},
   "outputs": [
    {
     "name": "stdout",
     "output_type": "stream",
     "text": [
      "28.800000006099538\n"
     ]
    },
    {
     "data": {
      "text/plain": [
       "array([-0.8       , -2.8       , -0.4       , -0.2       , -1.19999998,\n",
       "       -0.2       ,  1.2       ,  4.19999998,  0.6       ])"
      ]
     },
     "execution_count": 100,
     "metadata": {},
     "output_type": "execute_result"
    }
   ],
   "source": [
    "dcee_logistic3(w,x,t)"
   ]
  },
  {
   "cell_type": "code",
   "execution_count": 101,
   "metadata": {},
   "outputs": [],
   "source": [
    "# 매개 변수 검색\n",
    "\n",
    "def fit_logistic3(w_init, x, t):\n",
    "    res = minimize(cee_logistic3, w_init, args=(x, t),\n",
    "                   jac=dcee_logistic3, method='CG')\n",
    "    return res.x\n",
    "\n",
    "# 모델 등고선 2D 표시\n",
    "def show_contour_logistic3(w):\n",
    "    xn = 30 \n",
    "    x0 = np.linspace(X_range0[0], X_range0[1], xn)\n",
    "    x1 = np.linspace(X_range1[0], X_range1[1], xn)\n",
    "\n",
    "    xx0, xx1 = np.meshgrid(x0, x1)\n",
    "    xx = np.r_[[xx0],[xx1]]\n",
    "    print(xx.shape)\n",
    "    y = np.zeros((3, xn, xn))\n",
    "    for i in range(xn):\n",
    "#         wk = logistic3(xx0[:, i], xx1[:, i], w)\n",
    "        wk = logistic3(xx[:,:,i], w)\n",
    "        for j in range(3):\n",
    "            y[j, :, i] = wk[j, :]\n",
    "    for j in range(3):\n",
    "        cont = plt.contour(xx0, xx1, y[j, :, :],\n",
    "                           levels=(0.5, 0.9),\n",
    "                           colors=['cornflowerblue', 'k'])\n",
    "        cont.clabel(fmt='%1.1f', fontsize=9)\n",
    "    plt.grid(True)\n",
    "    \n",
    "def show_data2(x, t):\n",
    "    K, wk = t.shape\n",
    "    c = [[.5, .5, .5], [1, 1, 1], [0, 0, 0]]\n",
    "    for k in range(K):\n",
    "        plt.plot(x[0, t[k, :] == 1], x[1, t[k, :] == 1],  linestyle='none', markeredgecolor='black', marker='o', color=c[k], alpha=0.8)\n",
    "        plt.grid(True)"
   ]
  },
  {
   "cell_type": "code",
   "execution_count": 35,
   "metadata": {},
   "outputs": [
    {
     "ename": "ValueError",
     "evalue": "can only specify one unknown dimension",
     "output_type": "error",
     "traceback": [
      "\u001b[1;31m---------------------------------------------------------------------------\u001b[0m",
      "\u001b[1;31mValueError\u001b[0m                                Traceback (most recent call last)",
      "\u001b[1;32m<ipython-input-35-fdee878688e6>\u001b[0m in \u001b[0;36m<module>\u001b[1;34m\u001b[0m\n\u001b[0;32m      1\u001b[0m \u001b[0ma\u001b[0m \u001b[1;33m=\u001b[0m \u001b[0mnp\u001b[0m\u001b[1;33m.\u001b[0m\u001b[0marray\u001b[0m\u001b[1;33m(\u001b[0m\u001b[1;33m[\u001b[0m\u001b[1;33m[\u001b[0m\u001b[1;36m1\u001b[0m\u001b[1;33m,\u001b[0m\u001b[1;36m2\u001b[0m\u001b[1;33m]\u001b[0m\u001b[1;33m,\u001b[0m\u001b[1;33m[\u001b[0m\u001b[1;36m3\u001b[0m\u001b[1;33m,\u001b[0m\u001b[1;36m4\u001b[0m\u001b[1;33m]\u001b[0m\u001b[1;33m]\u001b[0m\u001b[1;33m)\u001b[0m\u001b[1;33m\u001b[0m\u001b[1;33m\u001b[0m\u001b[0m\n\u001b[1;32m----> 2\u001b[1;33m \u001b[0ma\u001b[0m \u001b[1;33m=\u001b[0m \u001b[0ma\u001b[0m\u001b[1;33m.\u001b[0m\u001b[0mreshape\u001b[0m\u001b[1;33m(\u001b[0m\u001b[1;33m-\u001b[0m\u001b[1;36m1\u001b[0m\u001b[1;33m,\u001b[0m\u001b[1;33m-\u001b[0m\u001b[1;36m1\u001b[0m\u001b[1;33m,\u001b[0m\u001b[1;36m1\u001b[0m\u001b[1;33m)\u001b[0m\u001b[1;33m\u001b[0m\u001b[1;33m\u001b[0m\u001b[0m\n\u001b[0m\u001b[0;32m      3\u001b[0m \u001b[0ma\u001b[0m\u001b[1;33m.\u001b[0m\u001b[0mshape\u001b[0m\u001b[1;33m\u001b[0m\u001b[1;33m\u001b[0m\u001b[0m\n",
      "\u001b[1;31mValueError\u001b[0m: can only specify one unknown dimension"
     ]
    }
   ],
   "source": [
    "a = np.array([[1,2],[3,4]])\n",
    "a = a.reshape(-1,-1,1)\n",
    "a.shape"
   ]
  },
  {
   "cell_type": "code",
   "execution_count": 86,
   "metadata": {},
   "outputs": [
    {
     "name": "stdout",
     "output_type": "stream",
     "text": [
      "(2, 100)\n",
      "(3, 100)\n"
     ]
    }
   ],
   "source": [
    "print(X.shape)\n",
    "print(T3.shape)"
   ]
  },
  {
   "cell_type": "code",
   "execution_count": 108,
   "metadata": {},
   "outputs": [],
   "source": [
    "# from scipy.optimize import minimize\n",
    "\n",
    "\n",
    "# X_range0 = [-3, 3] # X0 범위 표시 용\n",
    "# X_range1 = [-3, 3] # X1의 범위 표시 용\n",
    "\n",
    "# # 테스트\n",
    "# W = np.array([1, 2, 3, 4 ,5, 6, 7, 8, 9])\n",
    "# dcee_out = dcee_logistic3(W, X, T3)\n",
    "# print('\\t dcee_out = \\n' ,dcee_out)\n",
    "\n",
    "# # 메인\n",
    "# W_init = np.zeros((3, 3))\n",
    "# W = fit_logistic3(W_init, X, T3)\n",
    "# print('\\t W = \\n',np.round(W.reshape((3, 3)),2))\n",
    "# cee = cee_logistic3(W, X, T3)\n",
    "# print(\"CEE = {0:.2f}\".format(cee))\n",
    "\n",
    "# plt.figure(figsize=(5, 5))\n",
    "\n",
    "# show_contour_logistic3(W)\n",
    "# show_data2(X, T3)\n",
    "\n",
    "# plt.show()"
   ]
  },
  {
   "cell_type": "code",
   "execution_count": 198,
   "metadata": {},
   "outputs": [
    {
     "name": "stdout",
     "output_type": "stream",
     "text": [
      "\t dcee_out = \n",
      " [ 0.03778433  0.03708109 -0.1841851  -0.21235188 -0.44408101 -0.38340835\n",
      "  0.17456754  0.40699992  0.56759346]\n",
      "\t W = \n",
      " [[-2.37 -1.91  1.32]\n",
      " [-0.02  3.32 -0.39]\n",
      " [ 2.39 -1.41 -0.92]]\n",
      "CEE = 0.24\n",
      "(2, 30, 30)\n"
     ]
    },
    {
     "data": {
      "image/png": "[encoded data removed]",
      "text/plain": [
       "<Figure size 360x360 with 1 Axes>"
      ]
     },
     "metadata": {
      "needs_background": "light"
     },
     "output_type": "display_data"
    }
   ],
   "source": [
    "# from scipy.optimize import minimize\n",
    "\n",
    "\n",
    "X_range0 = [-3, 3] # X0 범위 표시 용\n",
    "X_range1 = [-3, 3] # X1의 범위 표시 용\n",
    "\n",
    "# 테스트\n",
    "W = np.array([1, 2, 3, 4 ,5, 6, 7, 8, 9])\n",
    "dcee_out = dcee_logistic3(W, X, T3)\n",
    "print('\\t dcee_out = \\n' ,dcee_out)\n",
    "\n",
    "# 메인\n",
    "W = np.zeros((9,))\n",
    "for i in range(100):\n",
    "    W -= dcee_logistic3(W, X, T3)\n",
    "#     print(cee_logistic3(W,X,T3))\n",
    "    \n",
    "print('\\t W = \\n',np.round(W.reshape((3, 3)),2))\n",
    "cee = cee_logistic3(W, X, T3)\n",
    "print(\"CEE = {0:.2f}\".format(cee))\n",
    "\n",
    "plt.figure(figsize=(5, 5))\n",
    "\n",
    "show_contour_logistic3(W)\n",
    "show_data2(X, T3)\n",
    "\n",
    "plt.show()"
   ]
  },
  {
   "cell_type": "code",
   "execution_count": null,
   "metadata": {},
   "outputs": [],
   "source": []
  }
 ],
 "metadata": {
  "kernelspec": {
   "display_name": "Python 3",
   "language": "python",
   "name": "python3"
  },
  "language_info": {
   "codemirror_mode": {
    "name": "ipython",
    "version": 3
   },
   "file_extension": ".py",
   "mimetype": "text/x-python",
   "name": "python",
   "nbconvert_exporter": "python",
   "pygments_lexer": "ipython3",
   "version": "3.7.3"
  }
 },
 "nbformat": 4,
 "nbformat_minor": 4
}
