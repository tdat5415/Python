{
 "cells": [
  {
   "cell_type": "markdown",
   "metadata": {},
   "source": [
    "# Chapter 1 Overview\n",
    "\n",
    "* 강의의 목적: 컴퓨터 프로그래밍을 위한 기초적인 알고리즘을 학습한 후 파이썬 프로그래밍을 이용하여 알고리즘을 구현할 수 있도록 파이썬 프로그래밍 기초를 학습하는 것을 목적으로 한다.\n",
    "* 교재 (참고자료):\n",
    "  \n",
    "  [1] 뇌를 자극하는 파이썬3\n",
    "  \n",
    "  [2] 한국기술교육대학교 평생교육원 강의 교재\n",
    "  \n",
    "  [3] 파이썬 Doc.\n",
    "  \n",
    "  [4] 파이썬 코딩 도장 (https://dojang.io/course/view.php?id=7)\n"
   ]
  },
  {
   "cell_type": "markdown",
   "metadata": {},
   "source": [
    "###  1.1 스크립트 언어\n",
    "\n",
    "##### 1.1.1 스크립트 언어란?\n",
    "* 스크립트(scripts)의 사전적 의미는 연극의 대사등이 적혀 있는 스크립트에서 유래되었다.\n",
    "* Script Language의 wikipedia 정의 (http://en.wikipedia.org/wiki/Scripting_language) : 스크립트를 지원하는 프로그래밍 언어. 사용자에 의해 하나씩 실행될 수있는 명령(스크립트, 소스코드, 작업의 실행)을 해석 (not 컴파일)하고 자동화 할 수있는 특수 런타임 환경을 위해 작성된 프로그램\n",
    "* 해석 -> 수행 (라인 단위로 스크립트를 해석하여 수행한다.)\n",
    "\n",
    "##### 1.1.2 스크립트 언어 vs. 컴파일 언어\n",
    "* 컴파일(Compile) 방식의 언어에 의해 작성되는 응용 프로그램은 컴파일러에 의해 기계어로 번역된 채로 실행되기 때문에, 수정이 빈번하게 발생할 경우에는 수정 후 다시 컴파일을 해야 한다. 또한, 덩치가 큰 프로그램은 컴파일 시간이 꽤 길다. 즉, 간단한 수정에도 오랜 기간의 컴파일 시간이 요구된다.\n",
    "* 컴파일러 언어 단점 : 자원을 많이 요구하고 시간 소요됨\n",
    "\n",
    "![Fig.0101](image/Fig.01.01.png)\n",
    "\n",
    "* 반면에 수정이 빈번하게 발생하는 경우에는 소스 코드를 한 줄 한 줄 읽어 바로 바로 실행하는 인터프리터 방식이 상당히 유리하다. \n",
    "* 스크립트 소스코드를 \n",
    "\n",
    "  [1] 컴파일 방식에 의해 중간 코드(Bytecode)로 우선 만들고, \n",
    "\n",
    "  [2] 이를 다시 인터프리터 방식으로 해석하여 수행하는 방법도 종종 활용된다.\n",
    " \n",
    "![Fig.0102](image/Fig.01.02.png)\n",
    "\n",
    "* 파이썬은 이 두가지 방식을 모두 지원한다.\n",
    "* 그러므로 스크립트 언어의 장점은 개발 시간이 단축되고, 소스 코드 수정이 빠르고 간단하게 이루어진다는 것이다.\n",
    "* 스크립트 언어의 단점은 중간 코드를 만드는 것은 간단하지만 그것을 실제로 실행시키는 것은 많은 작업을 필요로 한다. 그 결과 일반적으로 실행 시간이 오래 걸린다는 것이다.\n",
    "* 스크립트 언어의 예: JavaScript, ActionScript, Perl, PHP, Python, Lua, Ruby"
   ]
  },
  {
   "cell_type": "markdown",
   "metadata": {},
   "source": [
    "### Section 1.2  파이썬\n",
    "\n",
    "##### 파이썬의 특징\n",
    "\n",
    "* 대화 기능의 인터프리터 언어\n",
    "* 플랫폼 독립적 언어, 높은 확장성\n",
    "* 편리성: 짧아지는 코드, 쉬운 유지 보수, 많은 수의 라이브러리 제공\n",
    "* **동적인 데이터 타입 결정 지원**"
   ]
  },
  {
   "cell_type": "code",
   "execution_count": 1,
   "metadata": {
    "scrolled": true
   },
   "outputs": [
    {
     "name": "stdout",
     "output_type": "stream",
     "text": [
      "3\n",
      "abcdef\n",
      "[1, 2, 3, 4, 5, 6]\n"
     ]
    }
   ],
   "source": [
    "def add(a,b):   #함수의 매개변수 타입이 결정되어 있지 않다.\n",
    "    return a+b \n",
    "print(add(1,2)) \n",
    "print(add('abc', 'def')) \n",
    "print(add([1, 2, 3], [4, 5, 6]))"
   ]
  },
  {
   "cell_type": "markdown",
   "metadata": {},
   "source": [
    "* 고수준의 내장 객체 자료형 제공 (ex. 리스트:서로 다른 객체들을 원소로 갖고, 순서가 부여된 자료구조형)"
   ]
  },
  {
   "cell_type": "code",
   "execution_count": 2,
   "metadata": {},
   "outputs": [
    {
     "name": "stdout",
     "output_type": "stream",
     "text": [
      "[12, 'abcde', (4+2j), [3, 4, 5], 'add']\n"
     ]
    }
   ],
   "source": [
    "a=[12, 'abcde', 4+2j, [3,4,5]] \n",
    "a.append('add') \n",
    "print(a)"
   ]
  },
  {
   "cell_type": "markdown",
   "metadata": {},
   "source": [
    "* 메모리 자동 관리"
   ]
  },
  {
   "cell_type": "code",
   "execution_count": 3,
   "metadata": {},
   "outputs": [
    {
     "name": "stdout",
     "output_type": "stream",
     "text": [
      "[1, 2, 3, 4]\n",
      "[1, 2, 3, 4, 5, 6]\n"
     ]
    }
   ],
   "source": [
    "list=[1,2,3,4]\n",
    "print(list)\n",
    "list.append(5)\n",
    "list.append(6)\n",
    "print(list)"
   ]
  },
  {
   "cell_type": "markdown",
   "metadata": {},
   "source": [
    "##### 파이썬 개발 환경"
   ]
  },
  {
   "cell_type": "markdown",
   "metadata": {},
   "source": [
    "* 파이썬 버전 확인"
   ]
  },
  {
   "cell_type": "code",
   "execution_count": 4,
   "metadata": {},
   "outputs": [
    {
     "name": "stdout",
     "output_type": "stream",
     "text": [
      "3.8.3 (default, Jul  2 2020, 17:30:36) [MSC v.1916 64 bit (AMD64)]\n",
      "\n",
      "sys.version_info(major=3, minor=8, micro=3, releaselevel='final', serial=0)\n"
     ]
    }
   ],
   "source": [
    "import sys \n",
    "print(sys.version) \n",
    "print() \n",
    "print(sys.version_info)"
   ]
  },
  {
   "cell_type": "markdown",
   "metadata": {},
   "source": [
    "* 파일로 저장 후, 실행하기\n",
    "\n",
    "[1] 다음 내용의 cal.py 만들기 \n",
    "\n",
    "[2] 커맨트 창 (터미널 창)에서 해당 폴더로 이동 후 다음 명령어 수행 \n",
    "    \n",
    "```python  cal.py```"
   ]
  },
  {
   "cell_type": "code",
   "execution_count": 5,
   "metadata": {},
   "outputs": [
    {
     "name": "stdout",
     "output_type": "stream",
     "text": [
      "   November 2014\n",
      "Mo Tu We Th Fr Sa Su\n",
      "                1  2\n",
      " 3  4  5  6  7  8  9\n",
      "10 11 12 13 14 15 16\n",
      "17 18 19 20 21 22 23\n",
      "24 25 26 27 28 29 30\n"
     ]
    }
   ],
   "source": [
    "# file: cal.py \n",
    "import calendar \n",
    "calendar.prmonth(2014, 11)"
   ]
  },
  {
   "cell_type": "markdown",
   "metadata": {},
   "source": [
    "* 대화식 모드에서 혹은 다른 모듈에서 모듈 파일 실행하기"
   ]
  },
  {
   "cell_type": "code",
   "execution_count": 6,
   "metadata": {},
   "outputs": [
    {
     "data": {
      "text/plain": [
       "\"print('Start')\\nfor x in range(5):\\n\\tprint('this is a sample {0}'.format(x))\\nprint('End')\""
      ]
     },
     "execution_count": 6,
     "metadata": {},
     "output_type": "execute_result"
    }
   ],
   "source": [
    "module = open(\"./code/code0101.py\").read()\n",
    "module"
   ]
  },
  {
   "cell_type": "code",
   "execution_count": 7,
   "metadata": {
    "scrolled": true
   },
   "outputs": [
    {
     "name": "stdout",
     "output_type": "stream",
     "text": [
      "Start\n",
      "this is a sample 0\n",
      "this is a sample 1\n",
      "this is a sample 2\n",
      "this is a sample 3\n",
      "this is a sample 4\n",
      "End\n"
     ]
    }
   ],
   "source": [
    "exec(open(\"./code/code0101.py\").read())"
   ]
  },
  {
   "cell_type": "markdown",
   "metadata": {},
   "source": [
    "##### 파이썬 예약어\n",
    "파이썬에서 이미 문법적인 용도로 사용되고 있기 때문에 변수명 등의 식별자로 사용하면\n",
    "안 되는 단어들"
   ]
  },
  {
   "cell_type": "code",
   "execution_count": 8,
   "metadata": {},
   "outputs": [
    {
     "name": "stdout",
     "output_type": "stream",
     "text": [
      "['False', 'None', 'True', 'and', 'as', 'assert', 'async', 'await', 'break', 'class', 'continue', 'def', 'del', 'elif', 'else', 'except', 'finally', 'for', 'from', 'global', 'if', 'import', 'in', 'is', 'lambda', 'nonlocal', 'not', 'or', 'pass', 'raise', 'return', 'try', 'while', 'with', 'yield']\n",
      "\n",
      "35\n"
     ]
    }
   ],
   "source": [
    "import keyword\n",
    "print(keyword.kwlist)\n",
    "print()\n",
    "print(len(keyword.kwlist))"
   ]
  },
  {
   "cell_type": "markdown",
   "metadata": {},
   "source": [
    "### Jupyter Notebook 팁\n",
    "\n",
    "* 창 삽입/삭제\n",
    "    - A : 현재 창 위에 창 생성\n",
    "    - B : 현재 창 아래에 창 생성\n",
    "    - DD: 창 삭제\n",
    "\n",
    "* 창 변경\n",
    "    - M: Markdown\n",
    "    - Y: Code\n",
    "* 창 실행\n",
    "    - Enter : enter edit mode\n",
    "    - Shift-Enter : run cell, select below\n",
    "    - Ctrl-Enter : run cell\n",
    "    - Alt-Enter : run cell, insert below\n",
    "\n",
    "* 참고\n",
    "    - 모듈/함수 참고: 탭\n",
    "    - 함수 상세 설명: 함수의 ( )에 커서를 위치 시킨 후, Shift + Tab"
   ]
  },
  {
   "cell_type": "code",
   "execution_count": 9,
   "metadata": {},
   "outputs": [
    {
     "ename": "SyntaxError",
     "evalue": "invalid syntax (<ipython-input-9-02153f655ccc>, line 1)",
     "output_type": "error",
     "traceback": [
      "\u001b[1;36m  File \u001b[1;32m\"<ipython-input-9-02153f655ccc>\"\u001b[1;36m, line \u001b[1;32m1\u001b[0m\n\u001b[1;33m    from sklearn.? import ?\u001b[0m\n\u001b[1;37m                 ^\u001b[0m\n\u001b[1;31mSyntaxError\u001b[0m\u001b[1;31m:\u001b[0m invalid syntax\n"
     ]
    }
   ],
   "source": [
    "from sklearn.? import ?"
   ]
  },
  {
   "cell_type": "code",
   "execution_count": null,
   "metadata": {},
   "outputs": [],
   "source": [
    "a = [1,2,3]\n",
    "len(?)"
   ]
  }
 ],
 "metadata": {
  "kernelspec": {
   "display_name": "Python 3",
   "language": "python",
   "name": "python3"
  },
  "language_info": {
   "codemirror_mode": {
    "name": "ipython",
    "version": 3
   },
   "file_extension": ".py",
   "mimetype": "text/x-python",
   "name": "python",
   "nbconvert_exporter": "python",
   "pygments_lexer": "ipython3",
   "version": "3.6.9"
  }
 },
 "nbformat": 4,
 "nbformat_minor": 4
}
