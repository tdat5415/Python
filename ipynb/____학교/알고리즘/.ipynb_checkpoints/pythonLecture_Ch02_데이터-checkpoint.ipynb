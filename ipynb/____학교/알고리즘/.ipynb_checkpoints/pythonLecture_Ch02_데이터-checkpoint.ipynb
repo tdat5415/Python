{
 "cells": [
  {
   "cell_type": "markdown",
   "metadata": {},
   "source": [
    "# Chapter 2 데이터\n",
    "\n",
    "###  2.1 변수"
   ]
  },
  {
   "cell_type": "markdown",
   "metadata": {},
   "source": [
    "**변수**는 컴퓨터 프로그램에서 데이터 (정수, 실수, 문자, 문자열, 목록 등등)를 저장하는 메모리 공간을 의미한다.\n",
    "\n",
    "그러나 파이썬에서 변수는 실제 데이터를 저장하는 것이 아니라 데이터의 **레퍼런스**를 저장한다."
   ]
  },
  {
   "cell_type": "code",
   "execution_count": null,
   "metadata": {},
   "outputs": [],
   "source": [
    "a = 2000\n",
    "print(a)\n",
    "\n",
    "a = a+1\n",
    "print(a)\n",
    "\n",
    "a = 'A'\n",
    "print(a)\n",
    "\n",
    "a = 'DY Kim'\n",
    "print(a)\n",
    "\n",
    "a = [1,2,3]\n",
    "print(a)"
   ]
  },
  {
   "cell_type": "markdown",
   "metadata": {},
   "source": [
    "**자료형(Data type)** 은 프로그래밍에서 사용하는 데이터를 분류하는 체계를 의미한다.  \n",
    "이 분류 체계가 결정되는 시각이 프로그램 실행 시인지 아니면 프로그램 실행 전인지에 따라 '동적 형식 언어'와 '정적 형식 언어'로 구분된다. \n",
    "\n",
    "파이썬은 프로그램 실행 시에 자료형을 판단하는 **동적 형식 언어**이다. 그러므로 변수를 선언할 때 자료형이 결정되는 것이 아니라, 해당 변수가 사용될 때 (자료가 입력될 때) 결정된다.\n",
    "\n",
    "자료형 확인: type()"
   ]
  },
  {
   "cell_type": "code",
   "execution_count": null,
   "metadata": {},
   "outputs": [],
   "source": [
    "#파이썬은 코드가 실행될 때 변수의 형식을 결정한다.\n",
    "\n",
    "value_1\n",
    "print(type(value_1))\n",
    "a=1\n",
    "print(type(a))\n",
    "a='test'\n",
    "print(type(a))"
   ]
  },
  {
   "cell_type": "code",
   "execution_count": null,
   "metadata": {},
   "outputs": [],
   "source": [
    "#자료형 확인\n",
    "\n",
    "valueType = 'a'\n",
    "if str(type(valueType)) == \"<class 'int'>\":\n",
    "    print('{0} is integer'.format(valueType))\n",
    "else:\n",
    "    print('{0} is not integer'.format(valueType))"
   ]
  },
  {
   "cell_type": "markdown",
   "metadata": {},
   "source": [
    "---\n",
    "###  2.2 수치형 자료\n",
    "\n",
    "파이썬은 **정수**, **실수**, 그리고 **복소수**를 지원한다."
   ]
  },
  {
   "cell_type": "markdown",
   "metadata": {},
   "source": [
    "##### 2.2.1 정수  \n",
    "\n",
    "**정수**는 음의 정수, 0, 양의 정수를 의미한다.\n",
    "\n",
    "파이썬은 메모리가 허용하는 한 무한대의 정수를 다룰 수 있다.   \n",
    "\n",
    "(파이썬 구 버전의 경우, 정수형 자료의 최대값이 지정되어 있었다. 또한 무한대의 정수를 다루기 위한 롱형(long, L)을 별도로 규정하여 사용하였다)"
   ]
  },
  {
   "cell_type": "code",
   "execution_count": null,
   "metadata": {
    "scrolled": true
   },
   "outputs": [],
   "source": [
    "a = -1\n",
    "a = 0\n",
    "a = 1\n",
    "a = 123456789123456789123456789123456789123456789123456789123456789123456789123456789123456789123456789123456789123456789123456789123456789\n",
    "print(a)"
   ]
  },
  {
   "cell_type": "code",
   "execution_count": null,
   "metadata": {
    "scrolled": true
   },
   "outputs": [],
   "source": [
    "# 파이썬 구버전의 경우 마지막에 L을 붙여서 명시적으로 long 형이라고 알림\n",
    "# 파이썬3에서는 오류 발생\n",
    "h1 = 123456789012345678901234567890L\n",
    "print (type(h1))\n",
    "print (h1 * h1)"
   ]
  },
  {
   "cell_type": "markdown",
   "metadata": {},
   "source": [
    "파이썬은 접두사를 이용하여 여러가지 진법으로 수를 구분하여 표현할 수 있다.  \n",
    "\n",
    "0x는 16진수, 0b는 2진수, 0o는 8진수를 나타내는 접두사입니다. \n",
    "\n",
    "수를 16진수로 출력하려면 **hex()** 함수를, 2진수로 출력하려면 **bin()** 함수를, 그리고 8진수로 출력하려면 **oct()** 함수를 사용한다."
   ]
  },
  {
   "cell_type": "code",
   "execution_count": null,
   "metadata": {},
   "outputs": [],
   "source": [
    "a = 15\n",
    "print(hex(a))\n",
    "print(bin(a))\n",
    "print(oct(a))"
   ]
  },
  {
   "cell_type": "markdown",
   "metadata": {},
   "source": [
    "##### 2.2.2 실수"
   ]
  },
  {
   "cell_type": "code",
   "execution_count": null,
   "metadata": {},
   "outputs": [],
   "source": [
    "a = 1.2\n",
    "b = 3.5e3      #3.5e3=3.5*10³=3500(e3 → 10³ = 1000)\n",
    "c = -0.2e-4    #-0.2e-4=-0.2*(1/10000)=-2*(1/100000)=-2e-5\n",
    "\n",
    "print(type(a), a)\n",
    "print(type(b), b)\n",
    "print(type(c), c)"
   ]
  },
  {
   "cell_type": "markdown",
   "metadata": {},
   "source": [
    "##### 2.2.3 복소수\n",
    "\n",
    "복소수형 상수는 실수부와 허수부(j)로 구성된다. (주의: 허수부 표시가 'i'가 아니라 **'j'** 이다.)"
   ]
  },
  {
   "cell_type": "code",
   "execution_count": null,
   "metadata": {},
   "outputs": [],
   "source": [
    "a = 10 + 20j\n",
    "print (a)\n",
    "b = 10 + 5j\n",
    "print (a + b)"
   ]
  },
  {
   "cell_type": "markdown",
   "metadata": {},
   "source": [
    "##### 2.2.4 수치 자료형 치환\n",
    "\n",
    "```python\n",
    "x=1\n",
    "x=2\n",
    "```\n",
    "\n",
    "와 같은 파이썬 코드를 실행하면\n",
    "\n",
    "* x=1 : x가 1을 가리키도록 하는 주소(레퍼런스) 생김\n",
    "* x=2 : \n",
    "    - x가 2를 가리키도록 하는 주소(레퍼런스) 생김\n",
    "    - 기존에 x에 저장되어 있던 1을 가리키던 주소는 없어짐\n",
    "    - 이 때 1은 쓰레기(garbage)가 되어 수집 가능\n",
    "    \n",
    "![Fig.0202](image\\Fig.02.02.png)    "
   ]
  },
  {
   "cell_type": "markdown",
   "metadata": {},
   "source": [
    "##### 2.2.5 산술 연산자\n",
    "![Fig.0201](image/Fig.02.01.png)"
   ]
  },
  {
   "cell_type": "code",
   "execution_count": null,
   "metadata": {},
   "outputs": [],
   "source": [
    "#연산의 결과\n",
    "print(5 + 2.0) # 정수 + 실수의 결과는 실수\n",
    "print(5 + 2)   # 정수 + 정수의 결과는 정수\n",
    "print(5 - 2.0) # 정수 - 실수의 결과는 실수\n",
    "print(5 - 2)   # 정수 - 정수의 결과는 정수\n",
    "print(5 * 2.0) # 정수 * 실수의 결과는 실수\n",
    "print(5 * 2)   # 정수 * 정수의 결과는 정수"
   ]
  },
  {
   "cell_type": "code",
   "execution_count": null,
   "metadata": {},
   "outputs": [],
   "source": [
    "#나누기 연산의 결과는 실수형\n",
    "print(5 / 2.0) # 정수 / 실수의 결과는 실수\n",
    "print(5 / 2)   # 정수 / 정수의 결과는 실수\n",
    "print(4 / 2)   # 정수 / 정수의 결과는 실수"
   ]
  },
  {
   "cell_type": "code",
   "execution_count": null,
   "metadata": {
    "scrolled": true
   },
   "outputs": [],
   "source": [
    "#나머지 연산의 결과는 either 실수 or 정수\n",
    "#C언어의 경우, %는 정수 연산이다. 그러나 파이썬은 실수도 연산 가능\n",
    "print(5 % 2.0) # 정수 / 실수의 결과는 실수\n",
    "print(5 % 2)   # 정수 / 정수의 결과는 정수\n",
    "\n",
    "print(5.2 % 2.3)"
   ]
  },
  {
   "cell_type": "code",
   "execution_count": null,
   "metadata": {},
   "outputs": [],
   "source": [
    "#몫 연산의 결과는 실수형\n",
    "print(5 // 2.0) # 정수 / 실수의 결과는 실수\n",
    "print(5 // 2)   # 정수 / 정수의 결과는 정수"
   ]
  },
  {
   "cell_type": "code",
   "execution_count": null,
   "metadata": {},
   "outputs": [],
   "source": [
    "#지수승 결합 순서 주의\n",
    "print (2 ** 3 ** 2)\n",
    "print (2 ** 9)\n",
    "print ((2 ** 3) ** 2)"
   ]
  },
  {
   "cell_type": "markdown",
   "metadata": {},
   "source": [
    "##### 2.2.6 math 모듈을 이용한 계산\n",
    "* 파이썬 코드를 작성한 .py 확장자를 가진 파일을 모듈(Module)이라고 합니다.\n",
    "* 다른 모듈을 추가해서 코드를 작성하려면 우선 import 구문을 이용하여 사용할 모듈을 첨부해야 합니다.\n",
    "* 파이썬은 인터프리터와 함께 다양한 모듈을 기본적으로 제공합니다. 여러가지 수학 함수를 담고 있는 math 모듈도 이중 하나 입니다.\n",
    "\n",
    "  [1] 내장함수(built-in function): 파이썬이 인터프르터에 함께 탑재해 놓은 함수. 별도의 import 구문을 추가하지 않아도 사용할 수 있는 함수이다.\n",
    "  \n",
    "  [2] 외부모듈 함수: 해당 모듈을 import 해야만 사용할 수 있다."
   ]
  },
  {
   "cell_type": "code",
   "execution_count": null,
   "metadata": {},
   "outputs": [],
   "source": [
    "import math\n",
    "\n",
    "print('the value of pi is {0}'.format(math.pi))  #원주율\n",
    "print('the value of e is {0}'.format(math.e))    #자연대수"
   ]
  },
  {
   "cell_type": "code",
   "execution_count": null,
   "metadata": {},
   "outputs": [],
   "source": [
    "# 절대값, 버림, 반올림\n",
    "# import math\n",
    "\n",
    "print(abs(-2))     #abs()   : 절대값 - 내장함수\n",
    "print(round(2.3))  #round() : 반올림 - 내장함수\n",
    "print(round(2.6))\n",
    "print(trunc(2.3))  #trunc() : 버림함수 - math 모듈에 정의 --> import math 필요\n",
    "print(trunc(2.6))"
   ]
  },
  {
   "cell_type": "code",
   "execution_count": null,
   "metadata": {},
   "outputs": [],
   "source": [
    "#팩토리얼 5!=1*2*3*4*5\n",
    "from math import factorial\n",
    "\n",
    "print('1-{0}'.format(math.factorial(5)))\n",
    "print('2-{0}'.format(factorial(5)))\n"
   ]
  },
  {
   "cell_type": "code",
   "execution_count": null,
   "metadata": {},
   "outputs": [],
   "source": [
    "# 제곱과 제곱근\n",
    "import math\n",
    "\n",
    "print(3*2)\n",
    "print(3**2)\n",
    "print(math.pow(3,2))\n",
    "print(math.sqrt(9))"
   ]
  },
  {
   "cell_type": "code",
   "execution_count": null,
   "metadata": {},
   "outputs": [],
   "source": [
    "# 세제곱근: 27의 세제곱은 1/3승과 같은 의미\n",
    "print(27**(1/3))\n",
    "print(pow(27,(1/3)))"
   ]
  },
  {
   "cell_type": "markdown",
   "metadata": {},
   "source": [
    "### 2.3 문자형 자료\n",
    "\n",
    "##### 2.3.1 문자열 표현\n",
    "\n",
    "* 파이썬은 문자열을 효과적으로 다루기 위하여 string이라는 자료형을 제공합니다.\n",
    "* 문자열은 작은 따옴표(') 또는 큰 따옴표 (\")의 쌍으로 텍스트를 감싸서 표현합니다."
   ]
  },
  {
   "cell_type": "code",
   "execution_count": null,
   "metadata": {},
   "outputs": [],
   "source": [
    "a = 'korea'\n",
    "print(type(a))\n",
    "a = \"seoul\"\n",
    "print(a)"
   ]
  },
  {
   "cell_type": "markdown",
   "metadata": {},
   "source": [
    "* 여러 줄로 이루어진 문자열은 작은따옴표 3개 (''') 또는 큰따옴표 3개(\"\"\")의 쌍으로 텍스트를 감싸서 표현합니다."
   ]
  },
  {
   "cell_type": "code",
   "execution_count": null,
   "metadata": {},
   "outputs": [],
   "source": [
    "c = '''오늘은 월요일입니다.\n",
    "그러면 내일은 화요일이군요.\n",
    "우리는 수요일에 만납시다'''\n",
    "print(c)"
   ]
  },
  {
   "cell_type": "markdown",
   "metadata": {},
   "source": [
    "* 텍스트에 작은따옴표나 큰따옴표가 포함된 경우, 텍스트에 포함되지 않은 것으로 텍스트를 감싸서 표현합니다."
   ]
  },
  {
   "cell_type": "code",
   "execution_count": null,
   "metadata": {},
   "outputs": [],
   "source": [
    "d='그 사람은 이렇게 이야기 했습니다. \"행운을 빕니다.\" 그 말이 기억납니다.'\n",
    "print(d)"
   ]
  },
  {
   "cell_type": "markdown",
   "metadata": {},
   "source": [
    "* 문자열은 파이썬의 데이터 형식인 순서열(Sequence) 형식의 한 종류입니다. 그러므로 순서열이 제공하는 기능을 문자열에서도 사용할 수 있습니다.\n",
    "\n",
    "  [1] + : 두 문자열을 하나로 이어 붙인다 -> 새로운 문자열 생성\n",
    "  \n",
    "  [2] * : 문자열 반복 -> 새로운 문자열 생성\n",
    "\n",
    "  [3] 인덱싱 (Indexing)\n",
    "  \n",
    "  [4] 슬라이싱 (Slicing)"
   ]
  },
  {
   "cell_type": "code",
   "execution_count": null,
   "metadata": {},
   "outputs": [],
   "source": [
    "text_1 = 'Korea'\n",
    "text_2 = 'seoul'\n",
    "print(text_2 + ' ' +text_1)\n",
    "text_3 = text_1 * 3\n",
    "print(text_3)"
   ]
  },
  {
   "cell_type": "code",
   "execution_count": null,
   "metadata": {},
   "outputs": [],
   "source": [
    "#인텍싱\n",
    "\n",
    "text = 'seoul korea.'\n",
    "print(text[0])\n",
    "print(text[1])\n",
    "print(text[10])\n",
    "print(text[11])\n",
    "#print(text[12]) #범위를 넘어서면?"
   ]
  },
  {
   "cell_type": "code",
   "execution_count": null,
   "metadata": {},
   "outputs": [],
   "source": [
    "#인덱싱: 인덱스 앞에 ‘–(마이너스)’ 붙이면 뒤에서부터 셈\n",
    "text='seoul korea.'\n",
    "print(text[-1]) \n",
    "print(text[-2]) \n",
    "print(text[-11])\n",
    "print(text[-12]) \n",
    "#print(text_3[-13]) #범위를 넘어서면?"
   ]
  },
  {
   "cell_type": "code",
   "execution_count": null,
   "metadata": {},
   "outputs": [],
   "source": [
    "#인텍싱: 원본 문자열 변경은 불가\n",
    "text='seoul korea'\n",
    "text[0]='S'"
   ]
  },
  {
   "cell_type": "markdown",
   "metadata": {},
   "source": [
    "* 문자열 변경이 필요할 시, 새로운 문자열을 만들어서 사용한다."
   ]
  },
  {
   "cell_type": "code",
   "execution_count": null,
   "metadata": {},
   "outputs": [],
   "source": [
    "text='seoul korea'\n",
    "text='X'+text[1:]\n",
    "print(text)"
   ]
  },
  {
   "cell_type": "code",
   "execution_count": null,
   "metadata": {},
   "outputs": [],
   "source": [
    "#슬라이싱\n",
    "\n",
    "text ='seoul korea'\n",
    "print(text[0:4])      #text[0,..,3]까지만 분리\n",
    "print(text[:8])       #처음부터 text[7]까지만 분리\n",
    "print(text[8:])       #text[8]부터 끝까지 분리\n",
    "print(text[:])        #문자열 전체 (슬라이싱 하지 않음)"
   ]
  },
  {
   "cell_type": "code",
   "execution_count": null,
   "metadata": {},
   "outputs": [],
   "source": [
    "#스탭 (인덱스의 차이) 슬라이싱\n",
    "#[::스탭] -> 해당 값으로 스탭 설정\n",
    "text='0123456789ABCDEF'\n",
    "print(len(text))\n",
    "print()\n",
    "print(text[::3]) #문자열의 인덱스가 3씩 차이나게 슬라이싱 [0,3,6,9,...]\n",
    "print(text[::2])\n",
    "print(text[2:13:2]) #문자열[2,3,4,5,6]의 인덱스가 2씩 차이나게 슬라이싱\n",
    "print()\n",
    "\n",
    "#스탭 값이 음수: 문자열을 거꾸로 가져오게 됨\n",
    "print(text[::-1])\n",
    "print(text[::-2])\n",
    "print(text[12:2:-2])   #text[12]는 'C'부터  text[3]까지"
   ]
  },
  {
   "cell_type": "markdown",
   "metadata": {},
   "source": [
    "* in 키워드: 프로그래머가 원하는 부분이 문자열(순서열)에 있는지를 확인한 후, 있으면 True를, 없으면 False 결과를 출력한다."
   ]
  },
  {
   "cell_type": "code",
   "execution_count": null,
   "metadata": {},
   "outputs": [],
   "source": [
    "text ='seoul korea'\n",
    "print('e' in text)\n",
    "print(' ' in text) #공백문자\n",
    "print('x' in text)\n",
    "print('eou' in text)"
   ]
  },
  {
   "cell_type": "code",
   "execution_count": null,
   "metadata": {},
   "outputs": [],
   "source": [
    "text ='seoul korea'\n",
    "print('e' not in text)\n",
    "print('x' not in text)"
   ]
  },
  {
   "cell_type": "markdown",
   "metadata": {},
   "source": [
    "* len(): 순서열의 길이를 출력한다."
   ]
  },
  {
   "cell_type": "code",
   "execution_count": null,
   "metadata": {},
   "outputs": [],
   "source": [
    "text='seoul korea'\n",
    "print(len(text))"
   ]
  },
  {
   "cell_type": "markdown",
   "metadata": {},
   "source": [
    "##### 2.3.2 문자열 메소드"
   ]
  },
  {
   "cell_type": "code",
   "execution_count": null,
   "metadata": {},
   "outputs": [],
   "source": [
    "# find(). \n",
    "#문자열 안에 매개변수로 입력한 문자열이 존재하는 위치(index)를 \n",
    "#문자열 앞에서부터 찾는다. \n",
    "#만약 찾고자 하는 문자열이 존재하지 않으면 -1을 출력한다.\n",
    "\n",
    "text='seoul korea'\n",
    "print(text.find('oul k'))\n",
    "print(text.find('oulk'))\n",
    "print(text.find('e'))   #'e'가 문자열에 2개 존재. 앞에서 부터 찾는다."
   ]
  },
  {
   "cell_type": "code",
   "execution_count": null,
   "metadata": {},
   "outputs": [],
   "source": [
    "#count()\n",
    "#문자열 안에 매개변수로 입력한 문자열이 몇 번 포함되어 있는지를 출력한다.\n",
    "\n",
    "text = 'seoul korea'\n",
    "print(text.count('e'))\n",
    "print(text.count('eo'))\n",
    "print(text.count('x'))"
   ]
  },
  {
   "cell_type": "code",
   "execution_count": null,
   "metadata": {},
   "outputs": [],
   "source": [
    "#replace(찾는 문자열, 바꾸는 문자열)\n",
    "#문자열에서 찾고자 하는 문자열을 바꾸고자 하는 문자열로 변경합니다.\n",
    "\n",
    "text ='seoul korea'\n",
    "text=text.replace('se', 'xz')\n",
    "print(text)\n",
    "\n",
    "#원본 문자열에 찾는 문자열이 포함되어 있지 않은 경우\n",
    "text=text.replace('xx', 'se')  \n",
    "print(text)"
   ]
  },
  {
   "cell_type": "code",
   "execution_count": null,
   "metadata": {},
   "outputs": [],
   "source": [
    "#split()\n",
    "#매개 변수로 입력된 문자열을 기준으로 원본 문자열을 나눠서 '리스트'를 만든다.\n",
    "\n",
    "text='kim, lee, park'\n",
    "textList = text.split(',')\n",
    "print(textList)"
   ]
  },
  {
   "cell_type": "code",
   "execution_count": null,
   "metadata": {},
   "outputs": [],
   "source": [
    "#format()\n",
    "#형식을 갖춘 문자열을 만들 때 사용\n",
    "# step 1 - 문자열 안에 중괄호({})로 데이터 삽입 지점을 지정한다.\n",
    "# step 2 - format() 함수를 호출할 때 이 자리에 들어갈 데이터를 순서에 맞춰 넣어준다\n",
    "\n",
    "text='{0}: 경기도 화성시 봉담읍 와우안길 {1}'\n",
    "print(text.format('수원대', 17))"
   ]
  },
  {
   "cell_type": "markdown",
   "metadata": {},
   "source": [
    "### 2.4  자료형 변경: 수 <-> 텍스트\n",
    "\n",
    "* 내장 함수 input()은 사용자로부터 입력을 받아 프로그램에 전달한다.\n",
    "* 단, input() 함수의 출력은 항상 '문자열'이다."
   ]
  },
  {
   "cell_type": "code",
   "execution_count": null,
   "metadata": {},
   "outputs": [],
   "source": [
    "a = input()  # 정수 3 입력\n",
    "b = input()  # 정수 2 입력\n",
    "c = a*b      # 오류: 문자열 * 문자열"
   ]
  },
  {
   "cell_type": "markdown",
   "metadata": {},
   "source": [
    "* 자료형 변환: 생성자 사용\n",
    "* 정수 int()\n",
    "* 실수 float()\n",
    "* 허수 complex()\n",
    "* 문자열 str()"
   ]
  },
  {
   "cell_type": "code",
   "execution_count": null,
   "metadata": {},
   "outputs": [],
   "source": [
    "a = 1\n",
    "print(type(a))\n",
    "a = str(a)\n",
    "print(type(a))"
   ]
  },
  {
   "cell_type": "code",
   "execution_count": null,
   "metadata": {},
   "outputs": [],
   "source": [
    "print('첫 번째 정수 값을 입력하세요')\n",
    "a=input()\n",
    "print('두 번째 정수 값을 입력하세요')\n",
    "b=input()\n",
    "result = int(a)*int(b)\n",
    "print('{0} x {1} = {2}'.format(a,b,result))"
   ]
  },
  {
   "cell_type": "markdown",
   "metadata": {},
   "source": [
    "### Section 2.5 비트 연산\n",
    "\n",
    "* A << B : 왼쪽 시프트 연산, 첫 번째 피연산자(A)의 비트를 두 번째 피연산자(B)의 수만큼 왼쪽으로 이동시킨다. 왼쪽 이동 후, 비게 되는 오른쪽 비트들은 0으로 채워진다.\n",
    "* A >> B : 오른쪽 시프트 연산, 첫 번째 피연산자의 비트를 두 번째 피연산자의 수만큼 오른쪽으로 이동시킨다. 오른쪽 이동 후, 비게 되는 왼쪽 비트는 A가 양수이면 0으로 채워지고, A가 음수이면 1로 채워진다.\n",
    "* A &  B : 논리곱(AND) 연산, 두 피연산자의 비트 논리곱을 수행한다. 1&1==1, Otherwise == 0.\n",
    "* A |  B : 논리합(OR) 연산, 두 피연산자의 비티 논리합을 수행한다.  0|0==0, Otherwise == 1.\n",
    "* A ^  B : 배타적 논리합(XOR) 연산, 1^1==0^0==0, 1^0=0^1=1\n",
    "* ~A     : 보수(NOT) 연산, 단항연산, ~1 == 0, ~0 == 1"
   ]
  },
  {
   "cell_type": "code",
   "execution_count": null,
   "metadata": {},
   "outputs": [],
   "source": [
    "a=240 #0b11110000\n",
    "b=-240\n",
    "print(bin(a))\n",
    "print(bin(a<<2))\n",
    "print(bin(a>>2))\n",
    "print(bin(b))\n",
    "print(bin(b>>2))"
   ]
  },
  {
   "cell_type": "markdown",
   "metadata": {},
   "source": [
    "<div class=\"alert alert-success\">\n",
    "    <b>EXERCISE</b>: 문자열(0123456789ABCDEF)에서 슬라이싱을 이용하여 '89AB'만 출력하시오\n",
    "</div>"
   ]
  },
  {
   "cell_type": "code",
   "execution_count": null,
   "metadata": {},
   "outputs": [],
   "source": []
  },
  {
   "cell_type": "markdown",
   "metadata": {},
   "source": [
    "<div class=\"alert alert-success\">\n",
    "    <b>EXERCISE</b>: $ 3 \\times 5^{3^2} + 7$ 을 산술 연산식을 이용하여 계산하시오\n",
    "</div>"
   ]
  },
  {
   "cell_type": "code",
   "execution_count": null,
   "metadata": {},
   "outputs": [],
   "source": []
  },
  {
   "cell_type": "markdown",
   "metadata": {},
   "source": [
    "<div class=\"alert alert-success\">\n",
    "    <b>EXERCISE</b>: 반지름을 사용자로부터 입력 받아 원의 넓이를 구하시오. 사용자로부터 데이터를 입력 받을 때는 input()함수를 이용하시오. 단, input()함수는 사용자로부터 입력 받은 데이터를 문자열로 간주합니다.\n",
    "</div>"
   ]
  },
  {
   "cell_type": "code",
   "execution_count": null,
   "metadata": {
    "scrolled": true
   },
   "outputs": [],
   "source": []
  }
 ],
 "metadata": {
  "kernelspec": {
   "display_name": "Python 3",
   "language": "python",
   "name": "python3"
  },
  "language_info": {
   "codemirror_mode": {
    "name": "ipython",
    "version": 3
   },
   "file_extension": ".py",
   "mimetype": "text/x-python",
   "name": "python",
   "nbconvert_exporter": "python",
   "pygments_lexer": "ipython3",
   "version": "3.8.3"
  }
 },
 "nbformat": 4,
 "nbformat_minor": 4
}
