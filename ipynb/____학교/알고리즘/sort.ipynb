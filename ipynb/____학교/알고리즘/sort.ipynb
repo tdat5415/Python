{
 "cells": [
  {
   "cell_type": "code",
   "execution_count": 103,
   "metadata": {},
   "outputs": [
    {
     "name": "stdout",
     "output_type": "stream",
     "text": [
      "0.34981870651245117\n"
     ]
    },
    {
     "data": {
      "text/plain": [
       "[0, 1, 2, 3, 4, 5, 6, 7, 8, 9]"
      ]
     },
     "execution_count": 103,
     "metadata": {},
     "output_type": "execute_result"
    }
   ],
   "source": [
    "import random as rd\n",
    "import time\n",
    "\n",
    "\n",
    "rs = [i for i in range(100000)]\n",
    "rd.shuffle(rs)\n",
    "\n",
    "start = time.time()\n",
    "\n",
    "# rs = sorted(rs)\n",
    "# rs = selected_sort(rs)\n",
    "# rs = bubble_sort(rs)\n",
    "# rs = my_sort(rs)\n",
    "# rs = merge_sort(rs)\n",
    "rs = quick_sort(rs)\n",
    "\n",
    "end = time.time()\n",
    "\n",
    "print(end-start)\n",
    "rs[:10]"
   ]
  },
  {
   "cell_type": "code",
   "execution_count": 28,
   "metadata": {},
   "outputs": [],
   "source": [
    "def selected_sort(s):\n",
    "    for i in range(len(s)-1):\n",
    "        max_ind = 0\n",
    "        for j in range(len(s)-i):\n",
    "            if s[max_ind] < s[j]:\n",
    "                max_ind = j\n",
    "        s[max_ind], s[-1-i] = s[-1-i], s[max_ind]\n",
    "    \n",
    "    return s\n",
    "\n",
    "            "
   ]
  },
  {
   "cell_type": "code",
   "execution_count": 32,
   "metadata": {},
   "outputs": [],
   "source": [
    "def bubble_sort(s):\n",
    "    for i  in range(len(s)-1):\n",
    "        for j in range(1, len(s)-i):\n",
    "            if s[j-1] > s[j]:\n",
    "                s[j-1], s[j] = s[j], s[j-1]\n",
    "    return s"
   ]
  },
  {
   "cell_type": "code",
   "execution_count": 51,
   "metadata": {},
   "outputs": [],
   "source": [
    "def my_sort(s):\n",
    "    ss = [s[0]]\n",
    "    for i in range(1, len(s)):\n",
    "        min_ind = 0\n",
    "        max_ind = i-1\n",
    "        ind = 0\n",
    "        if ss[max_ind] <= s[i]:\n",
    "            ss.insert(max_ind+1, s[i])\n",
    "            continue\n",
    "        if ss[min_ind] >= s[i]:\n",
    "            ss.insert(min_ind, s[i])\n",
    "            continue\n",
    "            \n",
    "        while max_ind-min_ind > 1:\n",
    "            ind = (min_ind+max_ind) // 2\n",
    "            if ss[ind] < s[i]:\n",
    "                min_ind = ind\n",
    "            else:\n",
    "                max_ind = ind\n",
    "                \n",
    "        if ss[ind] <= s[i]:\n",
    "            ss.insert(ind+1, s[i])\n",
    "        else:\n",
    "            ss.insert(ind, s[i])\n",
    "            \n",
    "    \n",
    "    return ss\n",
    "        "
   ]
  },
  {
   "cell_type": "code",
   "execution_count": 69,
   "metadata": {},
   "outputs": [],
   "source": [
    "def merge_sort(s):\n",
    "    temp = []\n",
    "    if len(s) > 1:\n",
    "        sub1 = merge_sort(s[:len(s)//2])\n",
    "        sub2 = merge_sort(s[len(s)//2:])\n",
    "    else:\n",
    "        return s[:]\n",
    "    \n",
    "    while sub1 and sub2:\n",
    "        if sub1[0] < sub2[0]:\n",
    "            temp.append(sub1.pop(0))\n",
    "        else:\n",
    "            temp.append(sub2.pop(0))\n",
    "    \n",
    "    if sub1:\n",
    "        temp.extend(sub1)\n",
    "    else:\n",
    "        temp.extend(sub2)\n",
    "    \n",
    "    return temp"
   ]
  },
  {
   "cell_type": "code",
   "execution_count": 89,
   "metadata": {},
   "outputs": [],
   "source": [
    "def quick_sort(s):\n",
    "    if len(s) > 1:\n",
    "        pivot = s[0]\n",
    "        sub1 = []\n",
    "        sub2 = []\n",
    "        for v in s[1:]:\n",
    "            if v < pivot:\n",
    "                sub1.append(v)\n",
    "            else:\n",
    "                sub2.append(v)\n",
    "    else:\n",
    "        return s[:]\n",
    "    \n",
    "    return quick_sort(sub1) + [pivot] + quick_sort(sub2)"
   ]
  },
  {
   "cell_type": "code",
   "execution_count": null,
   "metadata": {},
   "outputs": [],
   "source": []
  },
  {
   "cell_type": "code",
   "execution_count": null,
   "metadata": {},
   "outputs": [],
   "source": []
  }
 ],
 "metadata": {
  "kernelspec": {
   "display_name": "Python 3",
   "language": "python",
   "name": "python3"
  },
  "language_info": {
   "codemirror_mode": {
    "name": "ipython",
    "version": 3
   },
   "file_extension": ".py",
   "mimetype": "text/x-python",
   "name": "python",
   "nbconvert_exporter": "python",
   "pygments_lexer": "ipython3",
   "version": "3.7.8"
  }
 },
 "nbformat": 4,
 "nbformat_minor": 4
}
