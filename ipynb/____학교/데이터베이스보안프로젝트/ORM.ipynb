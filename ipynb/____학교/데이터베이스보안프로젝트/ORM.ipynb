{
 "cells": [
  {
   "cell_type": "code",
   "execution_count": 1,
   "metadata": {},
   "outputs": [],
   "source": [
    "from flask import Flask, request\n",
    "from flask_sqlalchemy import SQLAlchemy"
   ]
  },
  {
   "cell_type": "code",
   "execution_count": 2,
   "metadata": {},
   "outputs": [],
   "source": [
    "app = Flask(__name__)\n",
    "\n",
    "app.config[\"SQLALCHEMY_DATABASE_URI\"] = \"sqlite:///aaaa.db\"\n",
    "# DB를 지정 + 파일명을 지정, 작대기 3개면 상대경로 4개면 절대경로\n",
    "app.config[\"SQLALCHEMY_TRACK_MODIFICATIONS\"] = False # 꼭 필요하다고 합니다.\n",
    "\n",
    "db = SQLAlchemy(app) # Flask app과 SQLAlchemy를 합체함.\n",
    "db.init_app(app)"
   ]
  },
  {
   "cell_type": "code",
   "execution_count": 3,
   "metadata": {},
   "outputs": [],
   "source": [
    "class Article(db.Model):\n",
    "    # db.Model을 상속받으면 db.Column()이라는 메소드를 사용가능함.\n",
    "    __tablename__ = \"articles\"\n",
    "    id = db.Column(db.Integer, primary_key=True)\n",
    "    title = db.Column(db.String, nullable=False)\n",
    "    content = db.Column(db.String, nullable=False)\n",
    "    author = db.Column(db.String, nullable=False)\n",
    "    created_at = db.Column(db.String, nullable=False)\n",
    "    \n",
    "    def __repr__(self):\n",
    "        return f\"Article('{self.id}', '{self.title}', '{self.content}')\"\n",
    "      \n",
    "db.create_all() # 이렇게 만든 테이블을 다 생성해봐라."
   ]
  },
  {
   "cell_type": "code",
   "execution_count": 4,
   "metadata": {},
   "outputs": [],
   "source": [
    "# \"\"\" ORM을 이용하여 데이터를 저장한다. \"\"\"\n",
    "# title = request.args.get('title')\n",
    "# content = request.args.get('content')\n",
    "# a = Article(title=title,content=content) # Article이라는 객체 생성\n",
    "a = Article(title='title1', content='content1', author='qq', created_at='aa') # Article이라는 객체 생성\n",
    "db.session.add(a) # 생성한 객체를 디비에 넣어라.\n",
    "a = Article(title='title2', content='content2', author='qqq', created_at='aaa') # Article이라는 객체 생성\n",
    "db.session.add(a) # 생성한 객체를 디비에 넣어라.\n",
    "db.session.commit() # commit"
   ]
  },
  {
   "cell_type": "code",
   "execution_count": 5,
   "metadata": {},
   "outputs": [],
   "source": [
    "article = Article.query.all()\n",
    "# SELECT * FROM articles와 동일함\n",
    "# 이렇게 뽑힌 것들은 객체들의 리스트가 된다.\n",
    "# [<article1>, <article2>, ...]\n",
    "# 따라서 객체의 원소를 참조하려면 멤버변수를 통해서 들고와야한다!"
   ]
  },
  {
   "cell_type": "code",
   "execution_count": 6,
   "metadata": {},
   "outputs": [
    {
     "data": {
      "text/plain": [
       "[Article('1', 'title1', 'content1'),\n",
       " Article('2', 'title1', 'content1'),\n",
       " Article('3', 'title2', 'content2'),\n",
       " Article('4', 'title1', 'content1'),\n",
       " Article('5', 'title2', 'content2'),\n",
       " Article('6', 'title1', 'content1'),\n",
       " Article('7', 'title2', 'content2')]"
      ]
     },
     "execution_count": 6,
     "metadata": {},
     "output_type": "execute_result"
    }
   ],
   "source": [
    "Article.query.all()"
   ]
  },
  {
   "cell_type": "code",
   "execution_count": 15,
   "metadata": {},
   "outputs": [],
   "source": [
    "tt = Article.query.filter_by(content='content2').first()"
   ]
  },
  {
   "cell_type": "code",
   "execution_count": 18,
   "metadata": {},
   "outputs": [
    {
     "data": {
      "text/plain": [
       "3"
      ]
     },
     "execution_count": 18,
     "metadata": {},
     "output_type": "execute_result"
    }
   ],
   "source": [
    "\n",
    "tt.id"
   ]
  }
 ],
 "metadata": {
  "kernelspec": {
   "display_name": "Python 3",
   "language": "python",
   "name": "python3"
  },
  "language_info": {
   "codemirror_mode": {
    "name": "ipython",
    "version": 3
   },
   "file_extension": ".py",
   "mimetype": "text/x-python",
   "name": "python",
   "nbconvert_exporter": "python",
   "pygments_lexer": "ipython3",
   "version": "3.7.8"
  }
 },
 "nbformat": 4,
 "nbformat_minor": 4
}
