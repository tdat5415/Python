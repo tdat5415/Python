{
 "cells": [
  {
   "cell_type": "code",
   "execution_count": 2,
   "metadata": {},
   "outputs": [],
   "source": [
    "import numpy as np\n",
    "from flask import Flask, request\n",
    "from flask_sqlalchemy import SQLAlchemy"
   ]
  },
  {
   "cell_type": "code",
   "execution_count": 3,
   "metadata": {},
   "outputs": [],
   "source": [
    "app = Flask(__name__)\n",
    "\n",
    "app.config[\"SQLALCHEMY_DATABASE_URI\"] = \"sqlite:///Client.db\"\n",
    "# DB를 지정 + 파일명을 지정, 작대기 3개면 상대경로 4개면 절대경로\n",
    "app.config[\"SQLALCHEMY_TRACK_MODIFICATIONS\"] = False # 꼭 필요하다고 합니다.\n",
    "\n",
    "db = SQLAlchemy(app) # Flask app과 SQLAlchemy를 합체함.\n",
    "db.init_app(app)"
   ]
  },
  {
   "cell_type": "code",
   "execution_count": 4,
   "metadata": {},
   "outputs": [],
   "source": [
    "class MyTable(db.Model):\n",
    "    # db.Model을 상속받으면 db.Column()이라는 메소드를 사용가능함.\n",
    "    __tablename__ = \"MyTable\"\n",
    "    id = db.Column(db.Integer, primary_key=True) # 꼭 있어야된다?\n",
    "    \n",
    "    def __repr__(self):\n",
    "        return f\"MyTable('{self.id}')\""
   ]
  },
  {
   "cell_type": "code",
   "execution_count": 4,
   "metadata": {},
   "outputs": [],
   "source": [
    "db.create_all() # 이렇게 만든 테이블을 다 생성해봐라."
   ]
  },
  {
   "cell_type": "code",
   "execution_count": 5,
   "metadata": {},
   "outputs": [],
   "source": [
    "all_set = [i for i in range(100)]\n",
    "sub_set = np.random.choice(all_set, 50, replace=False) # 겹치지않게 고름\n",
    "\n",
    "for val in sub_set:\n",
    "    a = MyTable(id=int(val))\n",
    "    db.session.add(a)\n",
    "\n",
    "db.session.commit()"
   ]
  },
  {
   "cell_type": "code",
   "execution_count": 5,
   "metadata": {},
   "outputs": [
    {
     "data": {
      "text/plain": [
       "array([ 4,  7,  8,  9, 10, 12, 13, 14, 16, 18, 20, 21, 22, 25, 27, 28, 31,\n",
       "       33, 35, 36, 37, 38, 39, 40, 41, 42, 44, 46, 48, 50, 54, 63, 64, 65,\n",
       "       66, 67, 69, 74, 75, 77, 78, 81, 82, 83, 84, 86, 88, 89, 98, 99])"
      ]
     },
     "execution_count": 5,
     "metadata": {},
     "output_type": "execute_result"
    }
   ],
   "source": [
    "np.array(list(map(lambda x:x.id,MyTable.query.all())))"
   ]
  },
  {
   "cell_type": "code",
   "execution_count": null,
   "metadata": {},
   "outputs": [],
   "source": []
  },
  {
   "cell_type": "code",
   "execution_count": null,
   "metadata": {},
   "outputs": [],
   "source": []
  },
  {
   "cell_type": "code",
   "execution_count": 7,
   "metadata": {},
   "outputs": [],
   "source": [
    "import numpy as np\n",
    "import socket as sk\n",
    "from threading import Thread, Lock\n",
    "import time\n",
    "import os"
   ]
  },
  {
   "cell_type": "code",
   "execution_count": 8,
   "metadata": {},
   "outputs": [
    {
     "name": "stdout",
     "output_type": "stream",
     "text": [
      "Connected.\n"
     ]
    }
   ],
   "source": [
    "HOST = '127.0.0.1'\n",
    "PORT = 12321\n",
    "\n",
    "client = sk.socket(sk.AF_INET, sk.SOCK_STREAM)\n",
    "client.connect((HOST, PORT))\n",
    "print('Connected.')\n",
    "\n",
    "client.send('get'.encode('utf-8'))\n",
    "print('send \"get\"')\n",
    "data_size = client.recv(1024).decode('utf-8')\n",
    "print('recv filesize : {0}'.format(data_size))\n",
    "data = client.recv(int(data_size))\n",
    "print('recv filedata')"
   ]
  },
  {
   "cell_type": "code",
   "execution_count": 10,
   "metadata": {},
   "outputs": [],
   "source": [
    "path = './client_recv.npy'\n",
    "with open(path, 'wb') as f:\n",
    "    f.write(data)"
   ]
  },
  {
   "cell_type": "code",
   "execution_count": 12,
   "metadata": {},
   "outputs": [
    {
     "data": {
      "text/plain": [
       "array([ 1,  2,  7, 10, 11, 17, 19, 21, 23, 25, 29, 32, 34, 36, 37, 38, 39,\n",
       "       42, 45, 46, 47, 48, 49, 54, 56, 57, 62, 63, 64, 65, 67, 71, 72, 76,\n",
       "       79, 80, 83, 84, 88, 89, 90, 91, 92, 93, 94, 95, 96, 97, 98, 99])"
      ]
     },
     "execution_count": 12,
     "metadata": {},
     "output_type": "execute_result"
    }
   ],
   "source": [
    "server_db = np.load('./client_recv.npy')\n",
    "server_db"
   ]
  },
  {
   "cell_type": "code",
   "execution_count": null,
   "metadata": {},
   "outputs": [],
   "source": []
  },
  {
   "cell_type": "code",
   "execution_count": null,
   "metadata": {},
   "outputs": [],
   "source": []
  },
  {
   "cell_type": "code",
   "execution_count": null,
   "metadata": {},
   "outputs": [],
   "source": []
  }
 ],
 "metadata": {
  "kernelspec": {
   "display_name": "Python 3",
   "language": "python",
   "name": "python3"
  },
  "language_info": {
   "codemirror_mode": {
    "name": "ipython",
    "version": 3
   },
   "file_extension": ".py",
   "mimetype": "text/x-python",
   "name": "python",
   "nbconvert_exporter": "python",
   "pygments_lexer": "ipython3",
   "version": "3.7.8"
  }
 },
 "nbformat": 4,
 "nbformat_minor": 4
}
