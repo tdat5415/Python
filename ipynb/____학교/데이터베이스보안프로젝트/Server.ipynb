{
 "cells": [
  {
   "cell_type": "markdown",
   "metadata": {},
   "source": [
    "## 모듈 불러오기"
   ]
  },
  {
   "cell_type": "code",
   "execution_count": 1,
   "metadata": {},
   "outputs": [],
   "source": [
    "import numpy as np\n",
    "from flask import Flask, request\n",
    "from flask_sqlalchemy import SQLAlchemy"
   ]
  },
  {
   "cell_type": "markdown",
   "metadata": {},
   "source": [
    "## DB 지정"
   ]
  },
  {
   "cell_type": "code",
   "execution_count": 2,
   "metadata": {},
   "outputs": [],
   "source": [
    "app = Flask(__name__)\n",
    "\n",
    "app.config[\"SQLALCHEMY_DATABASE_URI\"] = \"sqlite:///Server.db\"\n",
    "# DB를 지정 + 파일명을 지정, 작대기 3개면 상대경로 4개면 절대경로\n",
    "app.config[\"SQLALCHEMY_TRACK_MODIFICATIONS\"] = False # 꼭 필요하다고 합니다.\n",
    "\n",
    "db = SQLAlchemy(app) # Flask app과 SQLAlchemy를 합체함.\n",
    "db.init_app(app)"
   ]
  },
  {
   "cell_type": "markdown",
   "metadata": {},
   "source": [
    "## table 정의"
   ]
  },
  {
   "cell_type": "code",
   "execution_count": 3,
   "metadata": {},
   "outputs": [],
   "source": [
    "class MyTable(db.Model):\n",
    "    # db.Model을 상속받으면 db.Column()이라는 메소드를 사용가능함.\n",
    "    __tablename__ = \"MyTable\"\n",
    "    id = db.Column(db.Integer, primary_key=True) # 꼭 있어야된다?\n",
    "    \n",
    "    def __repr__(self):\n",
    "        return f\"MyTable('{self.id}')\""
   ]
  },
  {
   "cell_type": "code",
   "execution_count": 4,
   "metadata": {},
   "outputs": [],
   "source": [
    "class MyTable2(db.Model):\n",
    "    # db.Model을 상속받으면 db.Column()이라는 메소드를 사용가능함.\n",
    "    __tablename__ = \"MyTable2\"\n",
    "    num = db.Column(db.Integer, primary_key=True) # 꼭 있어야된다?\n",
    "    \n",
    "    def __repr__(self):\n",
    "        return f\"MyTable('{self.num}')\""
   ]
  },
  {
   "cell_type": "markdown",
   "metadata": {},
   "source": [
    "## DB 생성"
   ]
  },
  {
   "cell_type": "code",
   "execution_count": 5,
   "metadata": {},
   "outputs": [],
   "source": [
    "db.create_all() # 이렇게 만든 테이블을 다 생성해봐라."
   ]
  },
  {
   "cell_type": "markdown",
   "metadata": {},
   "source": [
    "## 랜덤 서브셋 저장"
   ]
  },
  {
   "cell_type": "code",
   "execution_count": 6,
   "metadata": {},
   "outputs": [],
   "source": [
    "all_set = [i for i in range(100)]\n",
    "sub_set = np.random.choice(all_set, 50, replace=False) # 겹치지않게 고름\n",
    "\n",
    "for val in sub_set:\n",
    "    a = MyTable(id=int(val))\n",
    "    db.session.add(a)\n",
    "\n",
    "db.session.commit()"
   ]
  },
  {
   "cell_type": "code",
   "execution_count": 17,
   "metadata": {},
   "outputs": [
    {
     "data": {
      "text/plain": [
       "array([ 1,  2,  7, 10, 11, 17, 19, 21, 23, 25, 29, 32, 34, 36, 37, 38, 39,\n",
       "       42, 45, 46, 47, 48, 49, 54, 56, 57, 62, 63, 64, 65, 67, 71, 72, 76,\n",
       "       79, 80, 83, 84, 88, 89, 90, 91, 92, 93, 94, 95, 96, 97, 98, 99])"
      ]
     },
     "execution_count": 17,
     "metadata": {},
     "output_type": "execute_result"
    }
   ],
   "source": [
    "np.array(list(map(lambda x:x.id,MyTable.query.all())))"
   ]
  },
  {
   "cell_type": "code",
   "execution_count": null,
   "metadata": {},
   "outputs": [],
   "source": []
  },
  {
   "cell_type": "code",
   "execution_count": 12,
   "metadata": {},
   "outputs": [],
   "source": [
    "np.save('./server_db.npy', np.array(list(map(lambda x:x.id,MyTable.query.all()))))"
   ]
  },
  {
   "cell_type": "code",
   "execution_count": null,
   "metadata": {},
   "outputs": [],
   "source": []
  },
  {
   "cell_type": "code",
   "execution_count": 13,
   "metadata": {},
   "outputs": [],
   "source": [
    "import numpy as np\n",
    "import socket as sk\n",
    "from threading import Thread, Lock\n",
    "import time\n",
    "import os"
   ]
  },
  {
   "cell_type": "code",
   "execution_count": 15,
   "metadata": {},
   "outputs": [],
   "source": [
    "def get_filesize(path):\n",
    "    size = os.path.getsize(path)\n",
    "    return str(size)\n",
    "\n",
    "def get_filedata(path):\n",
    "    with open(path, 'rb') as f:\n",
    "        return f.read()"
   ]
  },
  {
   "cell_type": "code",
   "execution_count": 18,
   "metadata": {},
   "outputs": [
    {
     "name": "stdout",
     "output_type": "stream",
     "text": [
      "Connected.\n"
     ]
    }
   ],
   "source": [
    "HOST = ''\n",
    "PORT = 12321\n",
    "\n",
    "server = sk.socket(sk.AF_INET, sk.SOCK_STREAM)\n",
    "server.bind((HOST, PORT))\n",
    "server.listen(0)\n",
    "with_client, addr = server.accept()\n",
    "print('Connected.')\n",
    "\n",
    "path = './server_db.npy'\n",
    "while True:\n",
    "    data = with_client.recv(1024).decode('utf-8')\n",
    "    if data == 'get':\n",
    "        with_client.send(get_filesize(path).encode('utf-8'))\n",
    "        print('send filesize')\n",
    "        time.sleep(0.1)\n",
    "        with_client.send(get_filedata(path))\n",
    "        print('send filedata')\n",
    "        break"
   ]
  },
  {
   "cell_type": "code",
   "execution_count": null,
   "metadata": {},
   "outputs": [],
   "source": []
  },
  {
   "cell_type": "code",
   "execution_count": null,
   "metadata": {},
   "outputs": [],
   "source": []
  }
 ],
 "metadata": {
  "kernelspec": {
   "display_name": "Python 3",
   "language": "python",
   "name": "python3"
  },
  "language_info": {
   "codemirror_mode": {
    "name": "ipython",
    "version": 3
   },
   "file_extension": ".py",
   "mimetype": "text/x-python",
   "name": "python",
   "nbconvert_exporter": "python",
   "pygments_lexer": "ipython3",
   "version": "3.7.8"
  }
 },
 "nbformat": 4,
 "nbformat_minor": 4
}
