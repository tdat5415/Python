{
 "cells": [
  {
   "cell_type": "code",
   "execution_count": 1,
   "metadata": {},
   "outputs": [],
   "source": [
    "import socket as sk\n",
    "from threading import Thread, Lock"
   ]
  },
  {
   "cell_type": "code",
   "execution_count": 2,
   "metadata": {},
   "outputs": [],
   "source": [
    "def thr_recv(sock):\n",
    "    while True:\n",
    "        try:\n",
    "            data = sock.recv(1024).decode('utf-8')\n",
    "            if data == '':\n",
    "                break\n",
    "            print(data)\n",
    "        except:\n",
    "            print('Disconnected...press Enter')\n",
    "            break"
   ]
  },
  {
   "cell_type": "code",
   "execution_count": 3,
   "metadata": {},
   "outputs": [],
   "source": [
    "def run_chat():\n",
    "    t = Thread(target=thr_recv, args=(client,))\n",
    "    t.daemon = True\n",
    "    t.start()\n",
    "    \n",
    "    while True:\n",
    "        try:\n",
    "            data = input()\n",
    "            client.send(data.encode('utf-8'))\n",
    "            if data == '/quit':\n",
    "                break\n",
    "        except:\n",
    "            break        "
   ]
  },
  {
   "cell_type": "code",
   "execution_count": 6,
   "metadata": {},
   "outputs": [
    {
     "name": "stdout",
     "output_type": "stream",
     "text": [
      "Connected.\n",
      "SYSTEM : Connection with ('127.0.0.1', 56356)SYSTEM : # of Connection : 2\n"
     ]
    },
    {
     "name": "stdin",
     "output_type": "stream",
     "text": [
      " hh\n"
     ]
    },
    {
     "name": "stdout",
     "output_type": "stream",
     "text": [
      "Client('127.0.0.1', 56356) : hh\n",
      "Disconnected...press Enter\n"
     ]
    },
    {
     "name": "stdin",
     "output_type": "stream",
     "text": [
      " \n"
     ]
    }
   ],
   "source": [
    "HOST = '127.0.0.1'\n",
    "PORT = 12321\n",
    "\n",
    "if __name__ == '__main__':\n",
    "    client = sk.socket(sk.AF_INET, sk.SOCK_STREAM)\n",
    "    client.connect((HOST, PORT))\n",
    "    print('Connected.')\n",
    "    \n",
    "    run_chat()"
   ]
  },
  {
   "cell_type": "code",
   "execution_count": null,
   "metadata": {},
   "outputs": [],
   "source": []
  },
  {
   "cell_type": "code",
   "execution_count": null,
   "metadata": {},
   "outputs": [],
   "source": []
  },
  {
   "cell_type": "code",
   "execution_count": null,
   "metadata": {},
   "outputs": [],
   "source": []
  }
 ],
 "metadata": {
  "kernelspec": {
   "display_name": "Python 3",
   "language": "python",
   "name": "python3"
  },
  "language_info": {
   "codemirror_mode": {
    "name": "ipython",
    "version": 3
   },
   "file_extension": ".py",
   "mimetype": "text/x-python",
   "name": "python",
   "nbconvert_exporter": "python",
   "pygments_lexer": "ipython3",
   "version": "3.7.8"
  }
 },
 "nbformat": 4,
 "nbformat_minor": 4
}
