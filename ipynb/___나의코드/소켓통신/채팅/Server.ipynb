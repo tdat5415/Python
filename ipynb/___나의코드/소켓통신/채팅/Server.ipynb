{
 "cells": [
  {
   "cell_type": "code",
   "execution_count": 1,
   "metadata": {},
   "outputs": [],
   "source": [
    "import socket as sk\n",
    "from threading import Thread, Lock\n",
    "import time"
   ]
  },
  {
   "cell_type": "code",
   "execution_count": 13,
   "metadata": {},
   "outputs": [],
   "source": [
    "def thr_accept():\n",
    "#     global socket_dict\n",
    "    while True:\n",
    "        try: \n",
    "            with_client, addr = server.accept()\n",
    "            _lock.acquire()\n",
    "            socket_dict[addr] = with_client\n",
    "            _lock.release()\n",
    "            make_thr_recv(addr)\n",
    "            broadcast('SYSTEM : Connection with ' + str(addr))\n",
    "            broadcast('SYSTEM : # of Connection : ' + str(len(socket_dict)))\n",
    "            print('SYSTEM : Connection with ' + str(addr))\n",
    "            print('SYSTEM : # of Connection : ' + str(len(socket_dict)))\n",
    "        except: \n",
    "            pass"
   ]
  },
  {
   "cell_type": "code",
   "execution_count": 11,
   "metadata": {},
   "outputs": [],
   "source": [
    "def broadcast(data):\n",
    "#     global socket_dict\n",
    "    _lock.acquire()\n",
    "    for with_client in socket_dict.values():\n",
    "        try: with_client.send(data.encode('utf-8'))\n",
    "        except: pass\n",
    "    _lock.release()"
   ]
  },
  {
   "cell_type": "code",
   "execution_count": 4,
   "metadata": {},
   "outputs": [],
   "source": [
    "def make_thr_recv(addr):\n",
    "    t = Thread(target=thr_recv, args=(addr,))\n",
    "    t.daemon = True\n",
    "    t.start()"
   ]
  },
  {
   "cell_type": "code",
   "execution_count": 14,
   "metadata": {},
   "outputs": [],
   "source": [
    "def thr_recv(addr):\n",
    "#     global socket_dict\n",
    "    sock = socket_dict[addr]\n",
    "    while True:\n",
    "        try: \n",
    "            data = sock.recv(1024).decode('utf-8')\n",
    "            if data == '/quit':\n",
    "                sk_close(addr)\n",
    "                broadcast('SYSTEM : Client' + str(addr) + ' quit.')\n",
    "                print('SYSTEM : Client' + str(addr) + ' quit.')\n",
    "                break\n",
    "            broadcast('Client' + str(addr) + ' : ' + data)\n",
    "            print('Client' + str(addr) + ' : ' + data)\n",
    "        except: \n",
    "            pass"
   ]
  },
  {
   "cell_type": "code",
   "execution_count": 6,
   "metadata": {},
   "outputs": [],
   "source": [
    "def sk_close(addr):\n",
    "#     global socket_dict\n",
    "    _lock.acquire()\n",
    "    socket_dict[addr].close()\n",
    "    del socket_dict[addr]\n",
    "    _lock.release()\n",
    "    broadcast('SYSTEM : # of Connection : ' + str(len(socket_dict)))\n",
    "    print('SYSTEM : # of Connection : ' + str(len(socket_dict)))"
   ]
  },
  {
   "cell_type": "code",
   "execution_count": 15,
   "metadata": {},
   "outputs": [
    {
     "name": "stdout",
     "output_type": "stream",
     "text": [
      "Run\n",
      "SYSTEM : Connection with ('127.0.0.1', 56392)\n",
      "SYSTEM : # of Connection : 1\n",
      "Client('127.0.0.1', 56392) : asdf\n",
      "Shutdown\n"
     ]
    }
   ],
   "source": [
    "HOST = ''\n",
    "PORT = 12321\n",
    "socket_dict = {}\n",
    "_lock = Lock()\n",
    "\n",
    "server = sk.socket(sk.AF_INET, sk.SOCK_STREAM)\n",
    "server.bind((HOST, PORT))\n",
    "server.listen(0)\n",
    "\n",
    "if __name__ == '__main__':\n",
    "    t = Thread(target=thr_accept, args=())\n",
    "    t.daemon = True\n",
    "    t.start()\n",
    "    \n",
    "    print('Run')\n",
    "    \n",
    "    while True: # to interrupt\n",
    "        try:\n",
    "            time.sleep(1)\n",
    "        except:\n",
    "            for with_client in socket_dict.values():\n",
    "                with_client.close()\n",
    "            server.close()\n",
    "            print('Shutdown')\n",
    "            break"
   ]
  },
  {
   "cell_type": "code",
   "execution_count": null,
   "metadata": {},
   "outputs": [],
   "source": []
  },
  {
   "cell_type": "code",
   "execution_count": null,
   "metadata": {},
   "outputs": [],
   "source": []
  },
  {
   "cell_type": "code",
   "execution_count": null,
   "metadata": {},
   "outputs": [],
   "source": []
  },
  {
   "cell_type": "code",
   "execution_count": null,
   "metadata": {},
   "outputs": [],
   "source": []
  },
  {
   "cell_type": "code",
   "execution_count": null,
   "metadata": {},
   "outputs": [],
   "source": []
  },
  {
   "cell_type": "code",
   "execution_count": null,
   "metadata": {},
   "outputs": [],
   "source": []
  },
  {
   "cell_type": "code",
   "execution_count": null,
   "metadata": {},
   "outputs": [],
   "source": []
  },
  {
   "cell_type": "code",
   "execution_count": null,
   "metadata": {},
   "outputs": [],
   "source": []
  }
 ],
 "metadata": {
  "kernelspec": {
   "display_name": "Python 3",
   "language": "python",
   "name": "python3"
  },
  "language_info": {
   "codemirror_mode": {
    "name": "ipython",
    "version": 3
   },
   "file_extension": ".py",
   "mimetype": "text/x-python",
   "name": "python",
   "nbconvert_exporter": "python",
   "pygments_lexer": "ipython3",
   "version": "3.7.8"
  }
 },
 "nbformat": 4,
 "nbformat_minor": 4
}
