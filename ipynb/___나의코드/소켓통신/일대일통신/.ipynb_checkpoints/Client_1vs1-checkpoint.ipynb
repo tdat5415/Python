{
 "cells": [
  {
   "cell_type": "code",
   "execution_count": 1,
   "metadata": {},
   "outputs": [],
   "source": [
    "import socket as sk\n",
    "import threading"
   ]
  },
  {
   "cell_type": "code",
   "execution_count": 3,
   "metadata": {},
   "outputs": [
    {
     "name": "stdout",
     "output_type": "stream",
     "text": [
      "연결 확인 됐습니다.\n"
     ]
    }
   ],
   "source": [
    "clientSock = sk.socket(sk.AF_INET, sk.SOCK_STREAM)\n",
    "clientSock.connect(('192.168.0.10', 12345))\n",
    "\n",
    "print('연결 확인 됐습니다.')"
   ]
  },
  {
   "cell_type": "code",
   "execution_count": 15,
   "metadata": {},
   "outputs": [
    {
     "name": "stdout",
     "output_type": "stream",
     "text": [
      "메시지를 전송했습니다.\n"
     ]
    }
   ],
   "source": [
    "clientSock.send('I am a client'.encode('utf-8'))\n",
    "\n",
    "print('메시지를 전송했습니다.')"
   ]
  },
  {
   "cell_type": "code",
   "execution_count": 4,
   "metadata": {},
   "outputs": [
    {
     "name": "stdout",
     "output_type": "stream",
     "text": [
      "받은 데이터 :  i am a server\n"
     ]
    }
   ],
   "source": [
    "data = clientSock.recv(1024)\n",
    "print('받은 데이터 : ', data.decode('utf-8'))"
   ]
  },
  {
   "cell_type": "code",
   "execution_count": null,
   "metadata": {},
   "outputs": [],
   "source": []
  },
  {
   "cell_type": "code",
   "execution_count": 14,
   "metadata": {},
   "outputs": [
    {
     "name": "stdout",
     "output_type": "stream",
     "text": [
      "client : "
     ]
    },
    {
     "name": "stdin",
     "output_type": "stream",
     "text": [
      " aa\n"
     ]
    },
    {
     "name": "stdout",
     "output_type": "stream",
     "text": [
      "server :  ...\n",
      "client : "
     ]
    },
    {
     "name": "stdin",
     "output_type": "stream",
     "text": [
      " aa\n"
     ]
    },
    {
     "name": "stdout",
     "output_type": "stream",
     "text": [
      "server :  ...\n",
      "client : "
     ]
    },
    {
     "name": "stdin",
     "output_type": "stream",
     "text": [
      " 내놔\n"
     ]
    },
    {
     "name": "stdout",
     "output_type": "stream",
     "text": [
      "server :  옛따\n",
      "client : "
     ]
    },
    {
     "name": "stdin",
     "output_type": "stream",
     "text": [
      " 내놔\n"
     ]
    },
    {
     "name": "stdout",
     "output_type": "stream",
     "text": [
      "server :  옛따\n",
      "client : "
     ]
    },
    {
     "name": "stdin",
     "output_type": "stream",
     "text": [
      " 내놔\n"
     ]
    },
    {
     "name": "stdout",
     "output_type": "stream",
     "text": [
      "server :  옛따\n"
     ]
    }
   ],
   "source": [
    "for i in range(5):\n",
    "    print('client : ', end='')\n",
    "    inp = input()\n",
    "    clientSock.send(inp.encode('utf-8'))\n",
    "    data = clientSock.recv(1024)\n",
    "    print('server : ', data.decode('utf-8'))"
   ]
  },
  {
   "cell_type": "code",
   "execution_count": null,
   "metadata": {},
   "outputs": [],
   "source": []
  }
 ],
 "metadata": {
  "kernelspec": {
   "display_name": "Python 3",
   "language": "python",
   "name": "python3"
  },
  "language_info": {
   "codemirror_mode": {
    "name": "ipython",
    "version": 3
   },
   "file_extension": ".py",
   "mimetype": "text/x-python",
   "name": "python",
   "nbconvert_exporter": "python",
   "pygments_lexer": "ipython3",
   "version": "3.7.8"
  }
 },
 "nbformat": 4,
 "nbformat_minor": 4
}
