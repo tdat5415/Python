{
 "cells": [
  {
   "cell_type": "code",
   "execution_count": 1,
   "metadata": {},
   "outputs": [
    {
     "name": "stderr",
     "output_type": "stream",
     "text": [
      "C:\\___Anaconda\\envs\\forTFgpu\\lib\\site-packages\\tensorflow\\python\\framework\\dtypes.py:516: FutureWarning: Passing (type, 1) or '1type' as a synonym of type is deprecated; in a future version of numpy, it will be understood as (type, (1,)) / '(1,)type'.\n",
      "  _np_qint8 = np.dtype([(\"qint8\", np.int8, 1)])\n",
      "C:\\___Anaconda\\envs\\forTFgpu\\lib\\site-packages\\tensorflow\\python\\framework\\dtypes.py:517: FutureWarning: Passing (type, 1) or '1type' as a synonym of type is deprecated; in a future version of numpy, it will be understood as (type, (1,)) / '(1,)type'.\n",
      "  _np_quint8 = np.dtype([(\"quint8\", np.uint8, 1)])\n",
      "C:\\___Anaconda\\envs\\forTFgpu\\lib\\site-packages\\tensorflow\\python\\framework\\dtypes.py:518: FutureWarning: Passing (type, 1) or '1type' as a synonym of type is deprecated; in a future version of numpy, it will be understood as (type, (1,)) / '(1,)type'.\n",
      "  _np_qint16 = np.dtype([(\"qint16\", np.int16, 1)])\n",
      "C:\\___Anaconda\\envs\\forTFgpu\\lib\\site-packages\\tensorflow\\python\\framework\\dtypes.py:519: FutureWarning: Passing (type, 1) or '1type' as a synonym of type is deprecated; in a future version of numpy, it will be understood as (type, (1,)) / '(1,)type'.\n",
      "  _np_quint16 = np.dtype([(\"quint16\", np.uint16, 1)])\n",
      "C:\\___Anaconda\\envs\\forTFgpu\\lib\\site-packages\\tensorflow\\python\\framework\\dtypes.py:520: FutureWarning: Passing (type, 1) or '1type' as a synonym of type is deprecated; in a future version of numpy, it will be understood as (type, (1,)) / '(1,)type'.\n",
      "  _np_qint32 = np.dtype([(\"qint32\", np.int32, 1)])\n",
      "C:\\___Anaconda\\envs\\forTFgpu\\lib\\site-packages\\tensorflow\\python\\framework\\dtypes.py:525: FutureWarning: Passing (type, 1) or '1type' as a synonym of type is deprecated; in a future version of numpy, it will be understood as (type, (1,)) / '(1,)type'.\n",
      "  np_resource = np.dtype([(\"resource\", np.ubyte, 1)])\n",
      "C:\\___Anaconda\\envs\\forTFgpu\\lib\\site-packages\\tensorboard\\compat\\tensorflow_stub\\dtypes.py:541: FutureWarning: Passing (type, 1) or '1type' as a synonym of type is deprecated; in a future version of numpy, it will be understood as (type, (1,)) / '(1,)type'.\n",
      "  _np_qint8 = np.dtype([(\"qint8\", np.int8, 1)])\n",
      "C:\\___Anaconda\\envs\\forTFgpu\\lib\\site-packages\\tensorboard\\compat\\tensorflow_stub\\dtypes.py:542: FutureWarning: Passing (type, 1) or '1type' as a synonym of type is deprecated; in a future version of numpy, it will be understood as (type, (1,)) / '(1,)type'.\n",
      "  _np_quint8 = np.dtype([(\"quint8\", np.uint8, 1)])\n",
      "C:\\___Anaconda\\envs\\forTFgpu\\lib\\site-packages\\tensorboard\\compat\\tensorflow_stub\\dtypes.py:543: FutureWarning: Passing (type, 1) or '1type' as a synonym of type is deprecated; in a future version of numpy, it will be understood as (type, (1,)) / '(1,)type'.\n",
      "  _np_qint16 = np.dtype([(\"qint16\", np.int16, 1)])\n",
      "C:\\___Anaconda\\envs\\forTFgpu\\lib\\site-packages\\tensorboard\\compat\\tensorflow_stub\\dtypes.py:544: FutureWarning: Passing (type, 1) or '1type' as a synonym of type is deprecated; in a future version of numpy, it will be understood as (type, (1,)) / '(1,)type'.\n",
      "  _np_quint16 = np.dtype([(\"quint16\", np.uint16, 1)])\n",
      "C:\\___Anaconda\\envs\\forTFgpu\\lib\\site-packages\\tensorboard\\compat\\tensorflow_stub\\dtypes.py:545: FutureWarning: Passing (type, 1) or '1type' as a synonym of type is deprecated; in a future version of numpy, it will be understood as (type, (1,)) / '(1,)type'.\n",
      "  _np_qint32 = np.dtype([(\"qint32\", np.int32, 1)])\n",
      "C:\\___Anaconda\\envs\\forTFgpu\\lib\\site-packages\\tensorboard\\compat\\tensorflow_stub\\dtypes.py:550: FutureWarning: Passing (type, 1) or '1type' as a synonym of type is deprecated; in a future version of numpy, it will be understood as (type, (1,)) / '(1,)type'.\n",
      "  np_resource = np.dtype([(\"resource\", np.ubyte, 1)])\n"
     ]
    }
   ],
   "source": [
    "import tensorflow as tf\n",
    "import matplotlib.pyplot as plt\n",
    "import random\n",
    "\n",
    "# Parameters\n",
    "learning_rate = 0.001\n",
    "training_epochs = 45 #15\n",
    "batch_size = 100\n",
    "display_step = 1"
   ]
  },
  {
   "cell_type": "code",
   "execution_count": 2,
   "metadata": {},
   "outputs": [],
   "source": [
    "import csv\n",
    "import os\n",
    "import numpy as np\n",
    "\n",
    "#인코딩중요\n",
    "#라벨만들기\n",
    "with open('./trainSet.csv', 'r', encoding='UTF-8-sig') as raw:\n",
    "    lines = raw.readlines()\n",
    "data = list(csv.reader(lines))\n",
    "data = sorted(data, key=lambda x: x[0])\n",
    "\n",
    "#이름빼기\n",
    "_Y = [y[1] for y in data]\n",
    "\n",
    "_Y = np.array(_Y)\n",
    "_Y = _Y.astype(float) # shape(-1)\n",
    "_Y = [[1-y, y] for y in _Y] # shape(-1, 2)\n",
    "\n",
    "\n",
    "#데이터만들기\n",
    "with open('./features.csv', 'r', encoding='UTF-8-sig') as raw:\n",
    "    lines = raw.readlines()\n",
    "data = list(csv.reader(lines))\n",
    "data = sorted(data, key=lambda x: x[0])\n",
    "\n",
    "#이름빼기\n",
    "_X = [x[1:] for x in data]\n",
    "\n",
    "_X = np.array(_X)\n",
    "_X = _X.astype(float) # shape(-1, 1024)\n",
    "\n",
    "train_X = _X[:8000]\n",
    "train_Y = _Y[:8000]\n",
    "test_X = _X[8000:]\n",
    "test_Y = _Y[8000:]\n",
    "\n",
    "train_set = tuple(zip(train_X, train_Y))\n",
    "test_set = tuple(zip(test_X, test_Y))\n",
    "\n",
    "M_test_X = [t[0] for t in test_set if t[1][1] == 1] # label의 악성이면\n",
    "M_test_Y = [t[1] for t in test_set if t[1][1] == 1] # label의 악성이면\n",
    "\n",
    "N_test_X = [t[0] for t in test_set if t[1][0] == 1] # label의 정상이면\n",
    "N_test_Y = [t[1] for t in test_set if t[1][0] == 1] # label의 정상이면\n",
    "\n"
   ]
  },
  {
   "cell_type": "code",
   "execution_count": 3,
   "metadata": {},
   "outputs": [
    {
     "name": "stdout",
     "output_type": "stream",
     "text": [
      "WARNING:tensorflow:From <ipython-input-3-6de1961ca76f>:15: calling dropout (from tensorflow.python.ops.nn_ops) with keep_prob is deprecated and will be removed in a future version.\n",
      "Instructions for updating:\n",
      "Please use `rate` instead of `keep_prob`. Rate should be set to `rate = 1 - keep_prob`.\n",
      "WARNING:tensorflow:\n",
      "The TensorFlow contrib module will not be included in TensorFlow 2.0.\n",
      "For more information, please see:\n",
      "  * https://github.com/tensorflow/community/blob/master/rfcs/20180907-contrib-sunset.md\n",
      "  * https://github.com/tensorflow/addons\n",
      "  * https://github.com/tensorflow/io (for I/O related ops)\n",
      "If you depend on functionality not listed there, please file an issue.\n",
      "\n",
      "WARNING:tensorflow:From <ipython-input-3-6de1961ca76f>:39: softmax_cross_entropy_with_logits (from tensorflow.python.ops.nn_ops) is deprecated and will be removed in a future version.\n",
      "Instructions for updating:\n",
      "\n",
      "Future major versions of TensorFlow will allow gradients to flow\n",
      "into the labels input on backprop by default.\n",
      "\n",
      "See `tf.nn.softmax_cross_entropy_with_logits_v2`.\n",
      "\n"
     ]
    }
   ],
   "source": [
    "with tf.device('/gpu:0'):\n",
    "    X = tf.placeholder(tf.float32, [None, 1024])\n",
    "    X_img = tf.reshape(X, [-1, 32, 32, 1]) # img 28x28x1 (black/white)\n",
    "    Y = tf.placeholder(tf.float32, [None, 2])\n",
    "    keep_prob = tf.placeholder(tf.float32)\n",
    "\n",
    "    #X_img = tf.nn.dropout(X_img, keep_prob=keep_prob)\n",
    "\n",
    "\n",
    "    # L1 ImgIn shape=(?, 32, 32, 1)\n",
    "    W1 = tf.Variable(tf.random_normal([4, 4, 1, 32], stddev=0.01))\n",
    "    L1 = tf.nn.conv2d(X_img, W1, strides=[1,1,1,1], padding='SAME')\n",
    "    L1 = tf.nn.relu(L1)\n",
    "    L1 = tf.nn.max_pool(L1, ksize=[1,2,2,1], strides=[1,2,2,1], padding='SAME')\n",
    "    L1 = tf.nn.dropout(L1, keep_prob=keep_prob)\n",
    "    #    Conv    -> (?, 32, 32, 32)\n",
    "    #    Pool    -> (?, 16, 16, 32)\n",
    "\n",
    "\n",
    "    # L2 ImgIn shape=(?, 16, 16, 32)\n",
    "    W2 = tf.Variable(tf.random_normal([4, 4, 32, 64], stddev=0.01))\n",
    "    L2 = tf.nn.conv2d(L1, W2, strides=[1,1,1,1], padding='SAME')\n",
    "    L2 = tf.nn.relu(L2)\n",
    "    L2 = tf.nn.max_pool(L2, ksize=[1,2,2,1], strides=[1,2,2,1], padding='SAME')\n",
    "    L2 = tf.reshape(L2, [-1, 8 * 8 * 64])\n",
    "    L2 = tf.nn.dropout(L2, keep_prob=keep_prob)\n",
    "    #    Conv    -> (?, 16, 16, 64)\n",
    "    #    Pool    -> (?, 8, 8, 64)\n",
    "    #    Pool    -> (?, 4096)\n",
    "\n",
    "\n",
    "\n",
    "\n",
    "    W3 = tf.get_variable('W3', shape=[8*8*64, 2], initializer=tf.contrib.layers.xavier_initializer())\n",
    "    b = tf.Variable(tf.random_normal([2]))\n",
    "    hypothesis = tf.matmul(L2, W3) + b\n",
    "\n",
    "\n",
    "    cost = tf.reduce_mean(tf.nn.softmax_cross_entropy_with_logits(logits=hypothesis, labels=Y))\n",
    "    optimizer = tf.train.AdamOptimizer(learning_rate=learning_rate).minimize(cost)"
   ]
  },
  {
   "cell_type": "code",
   "execution_count": 4,
   "metadata": {},
   "outputs": [
    {
     "name": "stdout",
     "output_type": "stream",
     "text": [
      "Epoch :  0001 cost =  0.581167558\n",
      "Epoch :  0002 cost =  0.543282725\n",
      "Epoch :  0003 cost =  0.511412391\n",
      "Epoch :  0004 cost =  0.471869008\n",
      "Epoch :  0005 cost =  0.434516339\n",
      "Epoch :  0006 cost =  0.406707254\n",
      "Epoch :  0007 cost =  0.386625384\n",
      "Epoch :  0008 cost =  0.370606288\n",
      "Epoch :  0009 cost =  0.353431741\n",
      "Epoch :  0010 cost =  0.337447443\n",
      "Epoch :  0011 cost =  0.329417099\n",
      "Epoch :  0012 cost =  0.313695659\n",
      "Epoch :  0013 cost =  0.299254339\n",
      "Epoch :  0014 cost =  0.294266822\n",
      "Epoch :  0015 cost =  0.281007579\n",
      "Epoch :  0016 cost =  0.266915720\n",
      "Epoch :  0017 cost =  0.259898839\n",
      "Epoch :  0018 cost =  0.258018412\n",
      "Epoch :  0019 cost =  0.247838137\n",
      "Epoch :  0020 cost =  0.243711632\n",
      "Epoch :  0021 cost =  0.231235498\n",
      "Epoch :  0022 cost =  0.230315554\n",
      "Epoch :  0023 cost =  0.221284648\n",
      "Epoch :  0024 cost =  0.213761882\n",
      "Epoch :  0025 cost =  0.217682891\n",
      "Epoch :  0026 cost =  0.203559098\n",
      "Epoch :  0027 cost =  0.209517476\n",
      "Epoch :  0028 cost =  0.203320168\n",
      "Epoch :  0029 cost =  0.196447183\n",
      "Epoch :  0030 cost =  0.189021573\n",
      "Epoch :  0031 cost =  0.187760477\n",
      "Epoch :  0032 cost =  0.185529407\n",
      "Epoch :  0033 cost =  0.180304702\n",
      "Epoch :  0034 cost =  0.181280056\n",
      "Epoch :  0035 cost =  0.177251658\n",
      "Epoch :  0036 cost =  0.173768805\n",
      "Epoch :  0037 cost =  0.171568580\n",
      "Epoch :  0038 cost =  0.165150910\n",
      "Epoch :  0039 cost =  0.157762184\n",
      "Epoch :  0040 cost =  0.158042389\n",
      "Epoch :  0041 cost =  0.161313886\n",
      "Epoch :  0042 cost =  0.157809483\n",
      "Epoch :  0043 cost =  0.157298499\n",
      "Epoch :  0044 cost =  0.155798844\n",
      "Epoch :  0045 cost =  0.147822352\n"
     ]
    }
   ],
   "source": [
    "# Training\n",
    "sess = tf.Session()\n",
    "sess.run(tf.global_variables_initializer())\n",
    "#sess.run(tf.initialize_all_variables())\n",
    "\n",
    "# Training cycle\n",
    "for epoch in range(training_epochs):\n",
    "    avg_cost = 0\n",
    "    total_batch = int(len(train_X) / batch_size)\n",
    "\n",
    "    for i in range(total_batch):\n",
    "        batch_xs, batch_ys = train_X[i*100:(i+1)*100], train_Y[i*100:(i+1)*100]\n",
    "        feed_dict = {X: batch_xs, Y: batch_ys, keep_prob: 0.7}\n",
    "        #feed_dict = {X: batch_xs, Y: batch_ys}\n",
    "        c, _ = sess.run([cost, optimizer], feed_dict=feed_dict)\n",
    "        \n",
    "        avg_cost += c / total_batch #뭉치갯수로 나누기\n",
    "        \n",
    "        \n",
    "    print('Epoch : ', '%04d' % (epoch + 1), 'cost = ', '{:.9f}'.format(avg_cost))\n"
   ]
  },
  {
   "cell_type": "code",
   "execution_count": 5,
   "metadata": {},
   "outputs": [
    {
     "name": "stdout",
     "output_type": "stream",
     "text": [
      "WARNING:tensorflow:From <ipython-input-5-c4a4d8e96122>:2: arg_max (from tensorflow.python.ops.gen_math_ops) is deprecated and will be removed in a future version.\n",
      "Instructions for updating:\n",
      "Use `tf.math.argmax` instead\n",
      "Accuracy :  0.9205\n",
      "정탐율 :  0.9725931\n",
      "오탐율 :  0.7920277\n",
      "Label: [0]\n",
      "Prediction: [0]\n"
     ]
    },
    {
     "data": {
      "image/png": "[encoded data removed]",
      "text/plain": [
       "<Figure size 432x288 with 1 Axes>"
      ]
     },
     "metadata": {
      "needs_background": "light"
     },
     "output_type": "display_data"
    }
   ],
   "source": [
    "# TEST\n",
    "is_correct = tf.equal(tf.arg_max(hypothesis, 1), tf.arg_max(Y, 1))\n",
    "accuracy = tf.reduce_mean(tf.cast(is_correct, tf.float32))\n",
    "\n",
    "feed_dict = {X: test_X, Y: test_Y, keep_prob: 1}\n",
    "print(\"Accuracy : \", accuracy.eval(session=sess, feed_dict=feed_dict))\n",
    "\n",
    "feed_dict = {X: M_test_X, Y: M_test_Y, keep_prob: 1}\n",
    "print(\"정탐율 : \", accuracy.eval(session=sess, feed_dict=feed_dict))\n",
    "\n",
    "feed_dict = {X: N_test_X, Y: N_test_Y, keep_prob: 1}\n",
    "print(\"오탐율 : \", accuracy.eval(session=sess, feed_dict=feed_dict))\n",
    "\n",
    "\n",
    "\n",
    "\n",
    "r = random.randint(0, len(test_X) - 1)\n",
    "print('Label:', sess.run(tf.argmax(test_Y[r:r+1], 1)))\n",
    "\n",
    "feed_dict = {X: test_X[r:r+1], keep_prob: 1}\n",
    "print('Prediction:', sess.run(tf.argmax(hypothesis, 1), feed_dict=feed_dict))\n",
    "\n",
    "plt.imshow(test_X[r:r+1].reshape(32, 32), cmap='Greys', interpolation='nearest')\n",
    "plt.show()"
   ]
  },
  {
   "cell_type": "code",
   "execution_count": null,
   "metadata": {},
   "outputs": [],
   "source": []
  },
  {
   "cell_type": "code",
   "execution_count": null,
   "metadata": {},
   "outputs": [],
   "source": []
  },
  {
   "cell_type": "code",
   "execution_count": null,
   "metadata": {},
   "outputs": [],
   "source": []
  },
  {
   "cell_type": "code",
   "execution_count": null,
   "metadata": {},
   "outputs": [],
   "source": []
  },
  {
   "cell_type": "code",
   "execution_count": null,
   "metadata": {},
   "outputs": [],
   "source": []
  },
  {
   "cell_type": "code",
   "execution_count": null,
   "metadata": {},
   "outputs": [],
   "source": []
  }
 ],
 "metadata": {
  "kernelspec": {
   "display_name": "Python 3",
   "language": "python",
   "name": "python3"
  },
  "language_info": {
   "codemirror_mode": {
    "name": "ipython",
    "version": 3
   },
   "file_extension": ".py",
   "mimetype": "text/x-python",
   "name": "python",
   "nbconvert_exporter": "python",
   "pygments_lexer": "ipython3",
   "version": "3.7.3"
  }
 },
 "nbformat": 4,
 "nbformat_minor": 2
}
