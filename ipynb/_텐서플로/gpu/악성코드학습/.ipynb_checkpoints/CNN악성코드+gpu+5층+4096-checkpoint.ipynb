{
 "cells": [
  {
   "cell_type": "code",
   "execution_count": 9,
   "metadata": {},
   "outputs": [],
   "source": [
    "import tensorflow as tf\n",
    "import matplotlib.pyplot as plt\n",
    "import random\n",
    "import time\n",
    "\n",
    "# Parameters\n",
    "learning_rate = 0.001\n",
    "training_epochs = 45 #15\n",
    "batch_size = 100\n",
    "display_step = 1"
   ]
  },
  {
   "cell_type": "code",
   "execution_count": 4,
   "metadata": {},
   "outputs": [],
   "source": [
    "import csv\n",
    "import os\n",
    "import numpy as np\n",
    "\n",
    "#인코딩중요\n",
    "#라벨만들기\n",
    "with open('./trainSet.csv', 'r', encoding='UTF-8-sig') as raw:\n",
    "    lines = raw.readlines()\n",
    "data = list(csv.reader(lines))\n",
    "data = sorted(data, key=lambda x: x[0])\n",
    "\n",
    "#이름빼기\n",
    "_Y = [y[1] for y in data]\n",
    "\n",
    "_Y = np.array(_Y)\n",
    "_Y = _Y.astype(float) # shape(-1)\n",
    "_Y = [[1-y, y] for y in _Y] # shape(-1, 2)\n",
    "\n",
    "\n",
    "#데이터만들기\n",
    "with open('./features4096.csv', 'r', encoding='UTF-8-sig') as raw:\n",
    "    lines = raw.readlines()\n",
    "data = list(csv.reader(lines))\n",
    "data = sorted(data, key=lambda x: x[0])\n",
    "\n",
    "#이름빼기\n",
    "_X = [x[1:] for x in data]\n",
    "\n",
    "_X = np.array(_X)\n",
    "_X = _X.astype(float) # shape(-1, 1024)\n",
    "\n",
    "train_X = _X[:8000]\n",
    "train_Y = _Y[:8000]\n",
    "test_X = _X[8000:]\n",
    "test_Y = _Y[8000:]\n",
    "\n",
    "train_set = tuple(zip(train_X, train_Y))\n",
    "test_set = tuple(zip(test_X, test_Y))\n",
    "\n",
    "M_test_X = [t[0] for t in test_set if t[1][1] == 1] # label의 악성이면\n",
    "M_test_Y = [t[1] for t in test_set if t[1][1] == 1] # label의 악성이면\n",
    "\n",
    "N_test_X = [t[0] for t in test_set if t[1][0] == 1] # label의 정상이면\n",
    "N_test_Y = [t[1] for t in test_set if t[1][0] == 1] # label의 정상이면\n",
    "\n"
   ]
  },
  {
   "cell_type": "code",
   "execution_count": 5,
   "metadata": {},
   "outputs": [
    {
     "name": "stdout",
     "output_type": "stream",
     "text": [
      "WARNING:tensorflow:From <ipython-input-5-bf56bc27afd0>:15: calling dropout (from tensorflow.python.ops.nn_ops) with keep_prob is deprecated and will be removed in a future version.\n",
      "Instructions for updating:\n",
      "Please use `rate` instead of `keep_prob`. Rate should be set to `rate = 1 - keep_prob`.\n",
      "WARNING:tensorflow:\n",
      "The TensorFlow contrib module will not be included in TensorFlow 2.0.\n",
      "For more information, please see:\n",
      "  * https://github.com/tensorflow/community/blob/master/rfcs/20180907-contrib-sunset.md\n",
      "  * https://github.com/tensorflow/addons\n",
      "  * https://github.com/tensorflow/io (for I/O related ops)\n",
      "If you depend on functionality not listed there, please file an issue.\n",
      "\n",
      "WARNING:tensorflow:From <ipython-input-5-bf56bc27afd0>:47: softmax_cross_entropy_with_logits (from tensorflow.python.ops.nn_ops) is deprecated and will be removed in a future version.\n",
      "Instructions for updating:\n",
      "\n",
      "Future major versions of TensorFlow will allow gradients to flow\n",
      "into the labels input on backprop by default.\n",
      "\n",
      "See `tf.nn.softmax_cross_entropy_with_logits_v2`.\n",
      "\n"
     ]
    }
   ],
   "source": [
    "with tf.device('/gpu:0'):\n",
    "    X = tf.placeholder(tf.float32, [None, 4096])\n",
    "    X_img = tf.reshape(X, [-1, 64, 64, 1]) # img 28x28x1 (black/white)\n",
    "    Y = tf.placeholder(tf.float32, [None, 2])\n",
    "    keep_prob = tf.placeholder(tf.float32)\n",
    "\n",
    "    #X_img = tf.nn.dropout(X_img, keep_prob=keep_prob)\n",
    "\n",
    "\n",
    "    # L1 ImgIn shape=(?, 64, 64, 1)\n",
    "    W1 = tf.Variable(tf.random_normal([4, 4, 1, 32], stddev=0.01))\n",
    "    L1 = tf.nn.conv2d(X_img, W1, strides=[1,1,1,1], padding='SAME')\n",
    "    L1 = tf.nn.relu(L1)\n",
    "    L1 = tf.nn.max_pool(L1, ksize=[1,2,2,1], strides=[1,2,2,1], padding='SAME')\n",
    "    L1 = tf.nn.dropout(L1, keep_prob=keep_prob)\n",
    "    #    Conv    -> (?, 64, 64, 32)\n",
    "    #    Pool    -> (?, 32, 32, 32)\n",
    "\n",
    "\n",
    "    # L2 ImgIn shape=(?, 32, 32, 32)\n",
    "    W2 = tf.Variable(tf.random_normal([4, 4, 32, 64], stddev=0.01))\n",
    "    L2 = tf.nn.conv2d(L1, W2, strides=[1,1,1,1], padding='SAME')\n",
    "    L2 = tf.nn.relu(L2)\n",
    "    L2 = tf.nn.max_pool(L2, ksize=[1,2,2,1], strides=[1,2,2,1], padding='SAME')\n",
    "    L2 = tf.nn.dropout(L2, keep_prob=keep_prob)\n",
    "    #    Conv    -> (?, 32, 32, 64)\n",
    "    #    Pool    -> (?, 16, 16, 64)\n",
    "\n",
    "\n",
    "    # L3 ImgIn shape=(?, 16, 16, 64)\n",
    "    W3 = tf.Variable(tf.random_normal([4, 4, 64, 128], stddev=0.01))\n",
    "    L3 = tf.nn.conv2d(L2, W3, strides=[1,1,1,1], padding='SAME')\n",
    "    L3 = tf.nn.relu(L3)\n",
    "    L3 = tf.nn.max_pool(L3, ksize=[1,2,2,1], strides=[1,2,2,1], padding='SAME')\n",
    "    L3 = tf.reshape(L3, [-1, 8 * 8 * 128])\n",
    "    L3 = tf.nn.dropout(L3, keep_prob=keep_prob)\n",
    "    #    Conv    -> (?, 16, 16, 128)\n",
    "    #    Pool    -> (?, 8, 8, 128)\n",
    "    #    Pool    -> (?, 8192)\n",
    "    \n",
    "\n",
    "    W4 = tf.get_variable('W4', shape=[8*8*128, 2], initializer=tf.contrib.layers.xavier_initializer())\n",
    "    b = tf.Variable(tf.random_normal([2]))\n",
    "    hypothesis = tf.matmul(L3, W4) + b\n",
    "\n",
    "\n",
    "    cost = tf.reduce_mean(tf.nn.softmax_cross_entropy_with_logits(logits=hypothesis, labels=Y))\n",
    "    optimizer = tf.train.AdamOptimizer(learning_rate=learning_rate).minimize(cost)"
   ]
  },
  {
   "cell_type": "code",
   "execution_count": 10,
   "metadata": {},
   "outputs": [
    {
     "name": "stdout",
     "output_type": "stream",
     "text": [
      "Epoch :  0001 cost =  0.641296158\n",
      "Epoch :  0002 cost =  0.564434618\n",
      "Epoch :  0003 cost =  0.534902760\n",
      "Epoch :  0004 cost =  0.514043894\n",
      "Epoch :  0005 cost =  0.492375914\n",
      "Epoch :  0006 cost =  0.465720816\n",
      "Epoch :  0007 cost =  0.439231829\n",
      "Epoch :  0008 cost =  0.410967861\n",
      "Epoch :  0009 cost =  0.390209761\n",
      "Epoch :  0010 cost =  0.359612812\n",
      "Epoch :  0011 cost =  0.342622452\n",
      "Epoch :  0012 cost =  0.326989066\n",
      "Epoch :  0013 cost =  0.310307197\n",
      "Epoch :  0014 cost =  0.294764783\n",
      "Epoch :  0015 cost =  0.287141390\n",
      "Epoch :  0016 cost =  0.262844893\n",
      "Epoch :  0017 cost =  0.253801275\n",
      "Epoch :  0018 cost =  0.253422147\n",
      "Epoch :  0019 cost =  0.231482341\n",
      "Epoch :  0020 cost =  0.230946593\n",
      "Epoch :  0021 cost =  0.222343246\n",
      "Epoch :  0022 cost =  0.220632756\n",
      "Epoch :  0023 cost =  0.198227652\n",
      "Epoch :  0024 cost =  0.197340164\n",
      "Epoch :  0025 cost =  0.191175067\n",
      "Epoch :  0026 cost =  0.184136508\n",
      "Epoch :  0027 cost =  0.175480683\n",
      "Epoch :  0028 cost =  0.171751006\n",
      "Epoch :  0029 cost =  0.165226232\n",
      "Epoch :  0030 cost =  0.156865042\n",
      "Epoch :  0031 cost =  0.160871424\n",
      "Epoch :  0032 cost =  0.154686415\n",
      "Epoch :  0033 cost =  0.145527424\n",
      "Epoch :  0034 cost =  0.141710758\n",
      "Epoch :  0035 cost =  0.135496066\n",
      "Epoch :  0036 cost =  0.131784690\n",
      "Epoch :  0037 cost =  0.121953021\n",
      "Epoch :  0038 cost =  0.122029205\n",
      "Epoch :  0039 cost =  0.110878404\n",
      "Epoch :  0040 cost =  0.111707881\n",
      "Epoch :  0041 cost =  0.107523905\n",
      "Epoch :  0042 cost =  0.107184518\n",
      "Epoch :  0043 cost =  0.100861162\n",
      "Epoch :  0044 cost =  0.093942352\n",
      "Epoch :  0045 cost =  0.101670241\n"
     ]
    }
   ],
   "source": [
    "# Training\n",
    "sess = tf.Session()\n",
    "sess.run(tf.global_variables_initializer())\n",
    "#sess.run(tf.initialize_all_variables())\n",
    "\n",
    "# Training cycle\n",
    "for epoch in range(training_epochs):\n",
    "    avg_cost = 0\n",
    "    total_batch = int(len(train_X) / batch_size)\n",
    "\n",
    "    for i in range(total_batch):\n",
    "        batch_xs, batch_ys = train_X[i*100:(i+1)*100], train_Y[i*100:(i+1)*100]\n",
    "        feed_dict = {X: batch_xs, Y: batch_ys, keep_prob: 0.7}\n",
    "        #feed_dict = {X: batch_xs, Y: batch_ys}\n",
    "        c, _ = sess.run([cost, optimizer], feed_dict=feed_dict)\n",
    "        \n",
    "        avg_cost += c / total_batch #뭉치갯수로 나누기\n",
    "        time.sleep(0.1)\n",
    "        \n",
    "        \n",
    "        \n",
    "    print('Epoch : ', '%04d' % (epoch + 1), 'cost = ', '{:.9f}'.format(avg_cost))\n"
   ]
  },
  {
   "cell_type": "code",
   "execution_count": 11,
   "metadata": {},
   "outputs": [
    {
     "name": "stdout",
     "output_type": "stream",
     "text": [
      "Accuracy :  0.937\n",
      "정탐율 :  0.96697116\n",
      "오탐율 :  0.8630849\n",
      "Label: [1]\n",
      "Prediction: [1]\n"
     ]
    },
    {
     "data": {
      "image/png": "[encoded data removed]",
      "text/plain": [
       "<Figure size 432x288 with 1 Axes>"
      ]
     },
     "metadata": {
      "needs_background": "light"
     },
     "output_type": "display_data"
    }
   ],
   "source": [
    "# TEST\n",
    "is_correct = tf.equal(tf.arg_max(hypothesis, 1), tf.arg_max(Y, 1))\n",
    "accuracy = tf.reduce_mean(tf.cast(is_correct, tf.float32))\n",
    "\n",
    "feed_dict = {X: test_X, Y: test_Y, keep_prob: 1}\n",
    "print(\"Accuracy : \", accuracy.eval(session=sess, feed_dict=feed_dict))\n",
    "\n",
    "feed_dict = {X: M_test_X, Y: M_test_Y, keep_prob: 1}\n",
    "print(\"정탐율 : \", accuracy.eval(session=sess, feed_dict=feed_dict))\n",
    "\n",
    "feed_dict = {X: N_test_X, Y: N_test_Y, keep_prob: 1}\n",
    "print(\"오탐율 : \", accuracy.eval(session=sess, feed_dict=feed_dict))\n",
    "\n",
    "\n",
    "\n",
    "\n",
    "r = random.randint(0, len(test_X) - 1)\n",
    "print('Label:', sess.run(tf.argmax(test_Y[r:r+1], 1)))\n",
    "\n",
    "feed_dict = {X: test_X[r:r+1], keep_prob: 1}\n",
    "print('Prediction:', sess.run(tf.argmax(hypothesis, 1), feed_dict=feed_dict))\n",
    "\n",
    "plt.imshow(test_X[r:r+1].reshape(64, 64), cmap='Greys', interpolation='nearest')\n",
    "plt.show()"
   ]
  },
  {
   "cell_type": "code",
   "execution_count": null,
   "metadata": {},
   "outputs": [],
   "source": []
  },
  {
   "cell_type": "code",
   "execution_count": null,
   "metadata": {},
   "outputs": [],
   "source": []
  },
  {
   "cell_type": "code",
   "execution_count": null,
   "metadata": {},
   "outputs": [],
   "source": []
  },
  {
   "cell_type": "code",
   "execution_count": null,
   "metadata": {},
   "outputs": [],
   "source": []
  },
  {
   "cell_type": "code",
   "execution_count": null,
   "metadata": {},
   "outputs": [],
   "source": []
  },
  {
   "cell_type": "code",
   "execution_count": null,
   "metadata": {},
   "outputs": [],
   "source": []
  }
 ],
 "metadata": {
  "kernelspec": {
   "display_name": "Python 3",
   "language": "python",
   "name": "python3"
  },
  "language_info": {
   "codemirror_mode": {
    "name": "ipython",
    "version": 3
   },
   "file_extension": ".py",
   "mimetype": "text/x-python",
   "name": "python",
   "nbconvert_exporter": "python",
   "pygments_lexer": "ipython3",
   "version": "3.7.3"
  }
 },
 "nbformat": 4,
 "nbformat_minor": 2
}
